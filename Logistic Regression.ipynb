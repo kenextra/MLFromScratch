{
 "cells": [
  {
   "cell_type": "code",
   "execution_count": 2,
   "metadata": {},
   "outputs": [],
   "source": [
    "import matplotlib\n",
    "import matplotlib.pyplot as plt\n",
    "plt.style.use(\"ggplot\")\n",
    "%matplotlib notebook"
   ]
  },
  {
   "cell_type": "markdown",
   "metadata": {},
   "source": [
    "# plot_data.py"
   ]
  },
  {
   "cell_type": "code",
   "execution_count": 3,
   "metadata": {},
   "outputs": [],
   "source": [
    "import numpy as np\n",
    "\n",
    "def plot_data(features, labels, ax, label=None, legend=False):\n",
    "    labels = labels.flatten()\n",
    "    pos = np.where(labels==1)\n",
    "    neg = np.where(labels==0)\n",
    "                   \n",
    "    ax.scatter(features[pos, 0], features[pos, 1], c='b', marker='o', label=label[0])\n",
    "    ax.scatter(features[neg, 0], features[neg, 1], c='r', marker='x', label=label[1])\n",
    "    \n",
    "    if legend:\n",
    "        ax.legend(loc=0, frameon=True, shadow=True)"
   ]
  },
  {
   "cell_type": "markdown",
   "metadata": {},
   "source": [
    "# sigmoid.py"
   ]
  },
  {
   "cell_type": "code",
   "execution_count": 4,
   "metadata": {},
   "outputs": [],
   "source": [
    "def sigmoid(z):\n",
    "    g = 1 / (1 + np.exp(-z))\n",
    "    return g"
   ]
  },
  {
   "cell_type": "markdown",
   "metadata": {},
   "source": [
    "# cost_function.py"
   ]
  },
  {
   "cell_type": "code",
   "execution_count": 5,
   "metadata": {},
   "outputs": [],
   "source": [
    "def cost_function(theta, X, y):\n",
    "    m, n = X.shape\n",
    "    theta = theta.reshape(n,1)\n",
    "    theta_X = np.dot(X, theta)\n",
    "    h = sigmoid(theta_X)\n",
    "    mul = -1/m\n",
    "    pos = np.dot(y.T, np.log(h))\n",
    "    neg = np.dot( (1-y).T, np.log(1-h) )\n",
    "    J = mul * (pos + neg)\n",
    "    return J.flatten()[0]\n",
    "\n",
    "def cost_function_reg(theta, X, y, lambd):\n",
    "    m, n = X.shape\n",
    "    theta = theta.reshape(n, 1)\n",
    "    theta_above = theta[1:, :]\n",
    "    # print(theta_above)\n",
    "    theta_x = X.dot(theta)\n",
    "    h = sigmoid(theta_x)\n",
    "    mul = -1/m\n",
    "    lambd_mul = lambd / (2*m)\n",
    "    pos = np.dot(y.T, np.log(h))\n",
    "    neg = np.dot( (1-y).T, np.log(1-h) )\n",
    "    J = ( mul * (pos + neg) ) + (lambd_mul* theta_above.T.dot(theta_above))\n",
    "    return J.flatten()[0]"
   ]
  },
  {
   "cell_type": "markdown",
   "metadata": {},
   "source": [
    "# gradient.py"
   ]
  },
  {
   "cell_type": "code",
   "execution_count": 6,
   "metadata": {},
   "outputs": [],
   "source": [
    "def gradient(theta, X, y):\n",
    "    m, n = X.shape\n",
    "    # grad = np.zeros(theta.shape)\n",
    "    theta = theta.reshape((n, 1))\n",
    "    theta_X = np.dot(X, theta)\n",
    "    error = sigmoid(theta_X) - y\n",
    "    grad = (1/m) * (np.dot(X.T, error))\n",
    "    return grad\n",
    "\n",
    "def gradient_reg(theta, X, y, lambd):\n",
    "    m, n = X.shape\n",
    "    theta = theta.reshape(n, 1)\n",
    "    grad = np.zeros(theta.shape)\n",
    "    theta_above = theta[1:, :]\n",
    "    theta_x = X.dot(theta)\n",
    "    h = sigmoid(theta_x)\n",
    "    lambd_mul = lambd / (2*m)\n",
    "    \n",
    "    grad[:,0] = (1/m) * (X[:, 0].T.dot(h-y))\n",
    "    grad[1:, :] = (1/m) * ( X[:,1:].T.dot(h-y) ) + ( (lambd/m) * theta_above)\n",
    "    return grad"
   ]
  },
  {
   "cell_type": "markdown",
   "metadata": {},
   "source": [
    "# main.py"
   ]
  },
  {
   "cell_type": "code",
   "execution_count": 7,
   "metadata": {},
   "outputs": [],
   "source": [
    "import pandas as pd"
   ]
  },
  {
   "cell_type": "code",
   "execution_count": 8,
   "metadata": {},
   "outputs": [],
   "source": [
    "data = pd.read_csv('data/ex2data1.txt', delimiter=',', header=None, names=['exam 1', 'exam 2', 'Admitted'])"
   ]
  },
  {
   "cell_type": "code",
   "execution_count": 9,
   "metadata": {},
   "outputs": [
    {
     "data": {
      "text/html": [
       "<div>\n",
       "<style scoped>\n",
       "    .dataframe tbody tr th:only-of-type {\n",
       "        vertical-align: middle;\n",
       "    }\n",
       "\n",
       "    .dataframe tbody tr th {\n",
       "        vertical-align: top;\n",
       "    }\n",
       "\n",
       "    .dataframe thead th {\n",
       "        text-align: right;\n",
       "    }\n",
       "</style>\n",
       "<table border=\"1\" class=\"dataframe\">\n",
       "  <thead>\n",
       "    <tr style=\"text-align: right;\">\n",
       "      <th></th>\n",
       "      <th>exam 1</th>\n",
       "      <th>exam 2</th>\n",
       "      <th>Admitted</th>\n",
       "    </tr>\n",
       "  </thead>\n",
       "  <tbody>\n",
       "    <tr>\n",
       "      <th>0</th>\n",
       "      <td>34.623660</td>\n",
       "      <td>78.024693</td>\n",
       "      <td>0</td>\n",
       "    </tr>\n",
       "    <tr>\n",
       "      <th>1</th>\n",
       "      <td>30.286711</td>\n",
       "      <td>43.894998</td>\n",
       "      <td>0</td>\n",
       "    </tr>\n",
       "    <tr>\n",
       "      <th>2</th>\n",
       "      <td>35.847409</td>\n",
       "      <td>72.902198</td>\n",
       "      <td>0</td>\n",
       "    </tr>\n",
       "    <tr>\n",
       "      <th>3</th>\n",
       "      <td>60.182599</td>\n",
       "      <td>86.308552</td>\n",
       "      <td>1</td>\n",
       "    </tr>\n",
       "    <tr>\n",
       "      <th>4</th>\n",
       "      <td>79.032736</td>\n",
       "      <td>75.344376</td>\n",
       "      <td>1</td>\n",
       "    </tr>\n",
       "  </tbody>\n",
       "</table>\n",
       "</div>"
      ],
      "text/plain": [
       "      exam 1     exam 2  Admitted\n",
       "0  34.623660  78.024693         0\n",
       "1  30.286711  43.894998         0\n",
       "2  35.847409  72.902198         0\n",
       "3  60.182599  86.308552         1\n",
       "4  79.032736  75.344376         1"
      ]
     },
     "execution_count": 9,
     "metadata": {},
     "output_type": "execute_result"
    }
   ],
   "source": [
    "data.head()"
   ]
  },
  {
   "cell_type": "code",
   "execution_count": 10,
   "metadata": {},
   "outputs": [
    {
     "data": {
      "text/html": [
       "<div>\n",
       "<style scoped>\n",
       "    .dataframe tbody tr th:only-of-type {\n",
       "        vertical-align: middle;\n",
       "    }\n",
       "\n",
       "    .dataframe tbody tr th {\n",
       "        vertical-align: top;\n",
       "    }\n",
       "\n",
       "    .dataframe thead th {\n",
       "        text-align: right;\n",
       "    }\n",
       "</style>\n",
       "<table border=\"1\" class=\"dataframe\">\n",
       "  <thead>\n",
       "    <tr style=\"text-align: right;\">\n",
       "      <th></th>\n",
       "      <th>exam 1</th>\n",
       "      <th>exam 2</th>\n",
       "      <th>Admitted</th>\n",
       "    </tr>\n",
       "  </thead>\n",
       "  <tbody>\n",
       "    <tr>\n",
       "      <th>95</th>\n",
       "      <td>83.489163</td>\n",
       "      <td>48.380286</td>\n",
       "      <td>1</td>\n",
       "    </tr>\n",
       "    <tr>\n",
       "      <th>96</th>\n",
       "      <td>42.261701</td>\n",
       "      <td>87.103851</td>\n",
       "      <td>1</td>\n",
       "    </tr>\n",
       "    <tr>\n",
       "      <th>97</th>\n",
       "      <td>99.315009</td>\n",
       "      <td>68.775409</td>\n",
       "      <td>1</td>\n",
       "    </tr>\n",
       "    <tr>\n",
       "      <th>98</th>\n",
       "      <td>55.340018</td>\n",
       "      <td>64.931938</td>\n",
       "      <td>1</td>\n",
       "    </tr>\n",
       "    <tr>\n",
       "      <th>99</th>\n",
       "      <td>74.775893</td>\n",
       "      <td>89.529813</td>\n",
       "      <td>1</td>\n",
       "    </tr>\n",
       "  </tbody>\n",
       "</table>\n",
       "</div>"
      ],
      "text/plain": [
       "       exam 1     exam 2  Admitted\n",
       "95  83.489163  48.380286         1\n",
       "96  42.261701  87.103851         1\n",
       "97  99.315009  68.775409         1\n",
       "98  55.340018  64.931938         1\n",
       "99  74.775893  89.529813         1"
      ]
     },
     "execution_count": 10,
     "metadata": {},
     "output_type": "execute_result"
    }
   ],
   "source": [
    "data.tail()"
   ]
  },
  {
   "cell_type": "code",
   "execution_count": 11,
   "metadata": {},
   "outputs": [],
   "source": [
    "n_row, n_col = data.shape"
   ]
  },
  {
   "cell_type": "markdown",
   "metadata": {},
   "source": [
    "# convert data to numpy array"
   ]
  },
  {
   "cell_type": "code",
   "execution_count": 12,
   "metadata": {},
   "outputs": [
    {
     "name": "stdout",
     "output_type": "stream",
     "text": [
      "(100, 2)\n",
      "(100, 1)\n"
     ]
    }
   ],
   "source": [
    "data = data.values\n",
    "X, y = data[:, 0:n_col-1], data[:,-1].reshape(n_row, 1)\n",
    "\n",
    "print(X.shape)\n",
    "print(y.shape)"
   ]
  },
  {
   "cell_type": "code",
   "execution_count": 26,
   "metadata": {},
   "outputs": [
    {
     "data": {
      "text/plain": [
       "\"\\ndata = np.loadtxt('ex2data1.txt', delimiter=',')\\nX = data[:, 0:2]\\ny = data[:, 2].reshape(X.shape[0], 1)\\nprint(X.shape)\\nprint(y.shape)\\nprint(y.flatten().shape)\\n\""
      ]
     },
     "execution_count": 26,
     "metadata": {},
     "output_type": "execute_result"
    }
   ],
   "source": [
    "\"\"\"\n",
    "data = np.loadtxt('ex2data1.txt', delimiter=',')\n",
    "X = data[:, 0:2]\n",
    "y = data[:, 2].reshape(X.shape[0], 1)\n",
    "print(X.shape)\n",
    "print(y.shape)\n",
    "print(y.flatten().shape)\n",
    "\"\"\""
   ]
  },
  {
   "cell_type": "code",
   "execution_count": 13,
   "metadata": {},
   "outputs": [
    {
     "name": "stdout",
     "output_type": "stream",
     "text": [
      "Plotting data with + indicating (y = 1) examples and o indicating (y = 0) examples\n"
     ]
    }
   ],
   "source": [
    "print(\"Plotting data with + indicating (y = 1) examples and o indicating (y = 0) examples\")"
   ]
  },
  {
   "cell_type": "code",
   "execution_count": 14,
   "metadata": {},
   "outputs": [
    {
     "data": {
      "text/plain": [
       "Text(0.5, 1.0, 'Scores of two exams')"
      ]
     },
     "execution_count": 14,
     "metadata": {},
     "output_type": "execute_result"
    },
    {
     "data": {
      "image/png": "[encoded data removed]",
      "text/plain": [
       "<Figure size 720x432 with 1 Axes>"
      ]
     },
     "metadata": {
      "needs_background": "light"
     },
     "output_type": "display_data"
    }
   ],
   "source": [
    "fig, ax = plt.subplots(figsize=(10,6))\n",
    "plot_data(features=X, labels=y, ax=ax, label=['Admitted', 'Not Admitted'], legend=True)\n",
    "ax.set_xlabel('Exam score 1')\n",
    "ax.set_ylabel('Exam score 2')\n",
    "ax.set_title('Scores of two exams')"
   ]
  },
  {
   "cell_type": "markdown",
   "metadata": {},
   "source": [
    "# Visualize using pylab"
   ]
  },
  {
   "cell_type": "code",
   "execution_count": 15,
   "metadata": {},
   "outputs": [],
   "source": [
    "import pylab\n",
    "from pylab import scatter, show, legend, xlabel, ylabel\n",
    "\n",
    "def plot_data_pylab(X, y):\n",
    "    y = y.flatten()\n",
    "    pos = np.where(y == 1)\n",
    "    neg = np.where(y == 0)\n",
    "    \n",
    "    scatter(X[pos, 0], X[pos, 1], marker='o', c='b')\n",
    "    scatter(X[neg, 0], X[neg, 1], marker='x', c='r')"
   ]
  },
  {
   "cell_type": "code",
   "execution_count": 16,
   "metadata": {},
   "outputs": [
    {
     "data": {
      "image/png": "[encoded data removed]",
      "text/plain": [
       "<Figure size 720x432 with 1 Axes>"
      ]
     },
     "metadata": {
      "needs_background": "light"
     },
     "output_type": "display_data"
    }
   ],
   "source": [
    "pylab.figure(figsize=(10,6))\n",
    "\"\"\"\n",
    "pos = where(y_p == 1)\n",
    "neg = where(y_p == 0)\n",
    "\n",
    "scatter(X_p[pos, 0], X_p[pos, 1], marker='o', c='b')\n",
    "scatter(X_p[neg, 0], X_p[neg, 1], marker='x', c='r')\n",
    "\"\"\"\n",
    "plot_data_pylab(X, y)\n",
    "xlabel('Exam 1 score')\n",
    "ylabel('Exam 2 score')\n",
    "legend(['Admitted', 'Not Admitted'], loc=0, frameon=True, shadow=True)\n",
    "show()"
   ]
  },
  {
   "cell_type": "markdown",
   "metadata": {},
   "source": [
    "# Add a column of ones to x"
   ]
  },
  {
   "cell_type": "code",
   "execution_count": 17,
   "metadata": {},
   "outputs": [],
   "source": [
    "X = np.insert(X, 0, 1, axis=1)"
   ]
  },
  {
   "cell_type": "markdown",
   "metadata": {},
   "source": [
    "# Initialize fitting parameters"
   ]
  },
  {
   "cell_type": "code",
   "execution_count": 18,
   "metadata": {},
   "outputs": [
    {
     "data": {
      "text/plain": [
       "(3,)"
      ]
     },
     "execution_count": 18,
     "metadata": {},
     "output_type": "execute_result"
    }
   ],
   "source": [
    "n = X.shape[1]\n",
    "initial_theta = np.zeros(n)\n",
    "initial_theta.shape"
   ]
  },
  {
   "cell_type": "markdown",
   "metadata": {},
   "source": [
    "# Compute and display initial cost and gradient"
   ]
  },
  {
   "cell_type": "code",
   "execution_count": 19,
   "metadata": {},
   "outputs": [
    {
     "name": "stdout",
     "output_type": "stream",
     "text": [
      "Cost at initial theta (zeros): 0.693\n",
      "Expected cost (approx): 0.693\n",
      "Gradient at initial theta (zeros):\n",
      " -0.1000\n",
      " -12.0092\n",
      " -11.2628\n",
      "Expected gradients (approx):\n",
      " -0.1000\n",
      " -12.0092\n",
      " -11.2628\n",
      "\n"
     ]
    }
   ],
   "source": [
    "costs = cost_function(initial_theta, X, y)\n",
    "grad = gradient(initial_theta, X, y)\n",
    "print(f'Cost at initial theta (zeros): {costs:.3f}')\n",
    "print('Expected cost (approx): 0.693')\n",
    "print(f'Gradient at initial theta (zeros):')\n",
    "for value in grad:\n",
    "    print(f' {value[0]:.4f}')\n",
    "print('Expected gradients (approx):\\n -0.1000\\n -12.0092\\n -11.2628\\n')"
   ]
  },
  {
   "cell_type": "markdown",
   "metadata": {},
   "source": [
    "# Compute and display cost and gradient with non-zero theta"
   ]
  },
  {
   "cell_type": "code",
   "execution_count": 20,
   "metadata": {},
   "outputs": [
    {
     "data": {
      "text/plain": [
       "(3,)"
      ]
     },
     "execution_count": 20,
     "metadata": {},
     "output_type": "execute_result"
    }
   ],
   "source": [
    "test_theta = np.array([-24, 0.2, 0.2])\n",
    "test_theta.shape"
   ]
  },
  {
   "cell_type": "code",
   "execution_count": 21,
   "metadata": {},
   "outputs": [
    {
     "name": "stdout",
     "output_type": "stream",
     "text": [
      "Cost at test theta (zeros): 0.21833019382659785\n",
      "Expected cost (approx): 0.218\n",
      "Gradient at test theta (zeros):\n",
      " 0.043\n",
      " 2.566\n",
      " 2.647\n",
      "Expected gradients (approx):\n",
      " 0.043\n",
      " 2.566\n",
      " 2.647\n",
      "\n"
     ]
    }
   ],
   "source": [
    "cost = cost_function(test_theta, X, y)\n",
    "grad = gradient(test_theta, X, y)\n",
    "print(f'Cost at test theta (zeros): {cost}')\n",
    "print('Expected cost (approx): 0.218')\n",
    "print(f'Gradient at test theta (zeros):')\n",
    "for value in grad:\n",
    "    print(f' {value[0]:.3f}')\n",
    "print('Expected gradients (approx):\\n 0.043\\n 2.566\\n 2.647\\n')"
   ]
  },
  {
   "cell_type": "markdown",
   "metadata": {},
   "source": [
    "# Optimizing using scipy built-in function called minimize using TNC method"
   ]
  },
  {
   "cell_type": "code",
   "execution_count": 22,
   "metadata": {},
   "outputs": [],
   "source": [
    "import scipy.optimize as op"
   ]
  },
  {
   "cell_type": "code",
   "execution_count": 23,
   "metadata": {},
   "outputs": [],
   "source": [
    "options = {'disp': True}\n",
    "result = op.minimize(fun=cost_function, \n",
    "                    x0=initial_theta,\n",
    "                    args=(X, y),\n",
    "                    method='TNC',\n",
    "                    jac=gradient,\n",
    "                    options=options)"
   ]
  },
  {
   "cell_type": "code",
   "execution_count": 24,
   "metadata": {},
   "outputs": [
    {
     "data": {
      "text/plain": [
       "array([-25.16131854,   0.20623159,   0.20147149])"
      ]
     },
     "execution_count": 24,
     "metadata": {},
     "output_type": "execute_result"
    }
   ],
   "source": [
    "theta = result.x\n",
    "cost = result.fun\n",
    "theta"
   ]
  },
  {
   "cell_type": "code",
   "execution_count": 25,
   "metadata": {},
   "outputs": [
    {
     "name": "stdout",
     "output_type": "stream",
     "text": [
      "Cost at theta found by scipy minimize: 0.203\n",
      "Expected cost (approx): 0.203\n",
      "\n",
      "theta:\n",
      " -25.161\n",
      " 0.206\n",
      " 0.201\n",
      "\n",
      "Expected theta (approx):\n",
      " -25.161\n",
      " 0.206\n",
      " 0.201\n",
      "\n"
     ]
    }
   ],
   "source": [
    "# Print theta to screen\n",
    "print(f'Cost at theta found by scipy minimize: {cost:.3f}')\n",
    "print('Expected cost (approx): 0.203')\n",
    "print('\\ntheta:')\n",
    "for value in theta:\n",
    "    print(f' {value:.3f}')\n",
    "print('\\nExpected theta (approx):')\n",
    "print(' -25.161\\n 0.206\\n 0.201\\n')"
   ]
  },
  {
   "cell_type": "markdown",
   "metadata": {},
   "source": [
    "# plot_decision_boundary.py"
   ]
  },
  {
   "cell_type": "code",
   "execution_count": 26,
   "metadata": {},
   "outputs": [],
   "source": [
    "def plot_decision_boundary(theta, X, y, ax, label):\n",
    "    plot_data(X[:,1:3], y, ax, label[0:2])\n",
    "    if X.shape[1] <= 3:\n",
    "        plot_x = np.array([min(X[:,1])-2, max(X[:,1])+2])\n",
    "        plot_y = (-1/theta[2]) * (theta[1] * plot_x + theta[0])\n",
    "        ax.plot(plot_x, plot_y, label=label[2], color='green')\n",
    "        ax.legend(loc=3, frameon=True, shadow=True)\n",
    "    else:\n",
    "        # Here is the grid range\n",
    "        u = np.linspace(-1, 1.5, 50)\n",
    "        v = np.linspace(-1, 1.5, 50)\n",
    "        z = np.zeros(shape=(len(u), len(v)))\n",
    "        for i in range(len(u)):\n",
    "            for j in range(len(v)):\n",
    "                z[i, j] = (map_feature(np.array(u[i]), np.array(v[j])).dot(np.array(theta)))\n",
    "        z = z.T # important to transpose z before calling contour\n",
    "        \n",
    "        ax.contour(u, v, z, 0, linewidths=2)"
   ]
  },
  {
   "cell_type": "code",
   "execution_count": 27,
   "metadata": {},
   "outputs": [
    {
     "data": {
      "image/png": "[encoded data removed]",
      "text/plain": [
       "<Figure size 720x432 with 1 Axes>"
      ]
     },
     "metadata": {
      "needs_background": "light"
     },
     "output_type": "display_data"
    }
   ],
   "source": [
    "fig, ax = plt.subplots(figsize=(10,6))\n",
    "plot_decision_boundary(theta, X, y, ax, label=['Admitted', 'Not Admitted', 'Decision Boundary'])"
   ]
  },
  {
   "cell_type": "markdown",
   "metadata": {},
   "source": [
    "## Predict probability for a student with score 45 on exam 1 and score 85 on exam 2"
   ]
  },
  {
   "cell_type": "code",
   "execution_count": 28,
   "metadata": {},
   "outputs": [],
   "source": [
    "prob = sigmoid(np.array([1, 45, 85]).dot(theta))"
   ]
  },
  {
   "cell_type": "code",
   "execution_count": 29,
   "metadata": {},
   "outputs": [
    {
     "name": "stdout",
     "output_type": "stream",
     "text": [
      "For a student with scores 45 and 85 we predict an admission probability of 0.776290622052972\n"
     ]
    }
   ],
   "source": [
    "print(f'For a student with scores 45 and 85 we predict an admission probability of {prob}')"
   ]
  },
  {
   "cell_type": "markdown",
   "metadata": {},
   "source": [
    "# Compute accuracy on training set"
   ]
  },
  {
   "cell_type": "code",
   "execution_count": 30,
   "metadata": {},
   "outputs": [],
   "source": [
    "def predict(theta, X):\n",
    "    m = X.shape[0]\n",
    "    p = np.zeros((m, 1))\n",
    "    \n",
    "    for i in range(m):\n",
    "        if sigmoid(X[i, :].dot(theta)) >= 0.5:\n",
    "            p[i] = 1\n",
    "        if sigmoid(X[i, :].dot(theta)) < 0.5:\n",
    "            p[i] = 0\n",
    "    return p"
   ]
  },
  {
   "cell_type": "code",
   "execution_count": 31,
   "metadata": {},
   "outputs": [
    {
     "name": "stdout",
     "output_type": "stream",
     "text": [
      "Train Accuracy: 89.0\n",
      "Expected accuracy (approx): 89.0\n"
     ]
    }
   ],
   "source": [
    "p = predict(theta, X)\n",
    "\n",
    "print(f'Train Accuracy: {np.mean(np.double(p == y)) * 100:.1f}')\n",
    "print('Expected accuracy (approx): 89.0')"
   ]
  },
  {
   "cell_type": "markdown",
   "metadata": {},
   "source": [
    "# Logistic Regression with regularization"
   ]
  },
  {
   "cell_type": "code",
   "execution_count": 32,
   "metadata": {},
   "outputs": [],
   "source": [
    "data = pd.read_csv('data/ex2data2.txt', delimiter=',', header=None, names=['Test1', 'Test2', 'Accepted/Rejected'])"
   ]
  },
  {
   "cell_type": "code",
   "execution_count": 33,
   "metadata": {},
   "outputs": [
    {
     "data": {
      "text/html": [
       "<div>\n",
       "<style scoped>\n",
       "    .dataframe tbody tr th:only-of-type {\n",
       "        vertical-align: middle;\n",
       "    }\n",
       "\n",
       "    .dataframe tbody tr th {\n",
       "        vertical-align: top;\n",
       "    }\n",
       "\n",
       "    .dataframe thead th {\n",
       "        text-align: right;\n",
       "    }\n",
       "</style>\n",
       "<table border=\"1\" class=\"dataframe\">\n",
       "  <thead>\n",
       "    <tr style=\"text-align: right;\">\n",
       "      <th></th>\n",
       "      <th>Test1</th>\n",
       "      <th>Test2</th>\n",
       "      <th>Accepted/Rejected</th>\n",
       "    </tr>\n",
       "  </thead>\n",
       "  <tbody>\n",
       "    <tr>\n",
       "      <th>0</th>\n",
       "      <td>0.051267</td>\n",
       "      <td>0.69956</td>\n",
       "      <td>1</td>\n",
       "    </tr>\n",
       "    <tr>\n",
       "      <th>1</th>\n",
       "      <td>-0.092742</td>\n",
       "      <td>0.68494</td>\n",
       "      <td>1</td>\n",
       "    </tr>\n",
       "    <tr>\n",
       "      <th>2</th>\n",
       "      <td>-0.213710</td>\n",
       "      <td>0.69225</td>\n",
       "      <td>1</td>\n",
       "    </tr>\n",
       "    <tr>\n",
       "      <th>3</th>\n",
       "      <td>-0.375000</td>\n",
       "      <td>0.50219</td>\n",
       "      <td>1</td>\n",
       "    </tr>\n",
       "    <tr>\n",
       "      <th>4</th>\n",
       "      <td>-0.513250</td>\n",
       "      <td>0.46564</td>\n",
       "      <td>1</td>\n",
       "    </tr>\n",
       "  </tbody>\n",
       "</table>\n",
       "</div>"
      ],
      "text/plain": [
       "      Test1    Test2  Accepted/Rejected\n",
       "0  0.051267  0.69956                  1\n",
       "1 -0.092742  0.68494                  1\n",
       "2 -0.213710  0.69225                  1\n",
       "3 -0.375000  0.50219                  1\n",
       "4 -0.513250  0.46564                  1"
      ]
     },
     "execution_count": 33,
     "metadata": {},
     "output_type": "execute_result"
    }
   ],
   "source": [
    "data.head()"
   ]
  },
  {
   "cell_type": "code",
   "execution_count": 34,
   "metadata": {},
   "outputs": [
    {
     "data": {
      "text/html": [
       "<div>\n",
       "<style scoped>\n",
       "    .dataframe tbody tr th:only-of-type {\n",
       "        vertical-align: middle;\n",
       "    }\n",
       "\n",
       "    .dataframe tbody tr th {\n",
       "        vertical-align: top;\n",
       "    }\n",
       "\n",
       "    .dataframe thead th {\n",
       "        text-align: right;\n",
       "    }\n",
       "</style>\n",
       "<table border=\"1\" class=\"dataframe\">\n",
       "  <thead>\n",
       "    <tr style=\"text-align: right;\">\n",
       "      <th></th>\n",
       "      <th>Test1</th>\n",
       "      <th>Test2</th>\n",
       "      <th>Accepted/Rejected</th>\n",
       "    </tr>\n",
       "  </thead>\n",
       "  <tbody>\n",
       "    <tr>\n",
       "      <th>113</th>\n",
       "      <td>-0.720620</td>\n",
       "      <td>0.538740</td>\n",
       "      <td>0</td>\n",
       "    </tr>\n",
       "    <tr>\n",
       "      <th>114</th>\n",
       "      <td>-0.593890</td>\n",
       "      <td>0.494880</td>\n",
       "      <td>0</td>\n",
       "    </tr>\n",
       "    <tr>\n",
       "      <th>115</th>\n",
       "      <td>-0.484450</td>\n",
       "      <td>0.999270</td>\n",
       "      <td>0</td>\n",
       "    </tr>\n",
       "    <tr>\n",
       "      <th>116</th>\n",
       "      <td>-0.006336</td>\n",
       "      <td>0.999270</td>\n",
       "      <td>0</td>\n",
       "    </tr>\n",
       "    <tr>\n",
       "      <th>117</th>\n",
       "      <td>0.632650</td>\n",
       "      <td>-0.030612</td>\n",
       "      <td>0</td>\n",
       "    </tr>\n",
       "  </tbody>\n",
       "</table>\n",
       "</div>"
      ],
      "text/plain": [
       "        Test1     Test2  Accepted/Rejected\n",
       "113 -0.720620  0.538740                  0\n",
       "114 -0.593890  0.494880                  0\n",
       "115 -0.484450  0.999270                  0\n",
       "116 -0.006336  0.999270                  0\n",
       "117  0.632650 -0.030612                  0"
      ]
     },
     "execution_count": 34,
     "metadata": {},
     "output_type": "execute_result"
    }
   ],
   "source": [
    "data.tail()"
   ]
  },
  {
   "cell_type": "code",
   "execution_count": 35,
   "metadata": {},
   "outputs": [
    {
     "name": "stdout",
     "output_type": "stream",
     "text": [
      "(118, 2)\n",
      "(118, 1)\n"
     ]
    }
   ],
   "source": [
    "n_row, n_col = data.shape\n",
    "data = data.values\n",
    "X, y = data[:, 0:n_col-1], data[:,-1].reshape(n_row, 1)\n",
    "\n",
    "print(X.shape)\n",
    "print(y.shape)"
   ]
  },
  {
   "cell_type": "code",
   "execution_count": 36,
   "metadata": {},
   "outputs": [
    {
     "data": {
      "text/plain": [
       "Text(0.5, 1.0, 'Positive (y = 1) accepted, Negative (y = 0) rejected')"
      ]
     },
     "execution_count": 36,
     "metadata": {},
     "output_type": "execute_result"
    },
    {
     "data": {
      "image/png": "[encoded data removed]",
      "text/plain": [
       "<Figure size 720x432 with 1 Axes>"
      ]
     },
     "metadata": {
      "needs_background": "light"
     },
     "output_type": "display_data"
    }
   ],
   "source": [
    "fig, ax = plt.subplots(figsize=(10,6))\n",
    "plot_data(X, y, ax, label=['y = 1', 'y = 0'], legend=True)\n",
    "ax.set_xlabel('Microchip Test 1')\n",
    "ax.set_ylabel('Microchip Test 2')\n",
    "ax.set_title('Positive (y = 1) accepted, Negative (y = 0) rejected')"
   ]
  },
  {
   "cell_type": "markdown",
   "metadata": {},
   "source": [
    "# Feature mapping"
   ]
  },
  {
   "cell_type": "markdown",
   "metadata": {},
   "source": [
    "## map_feature.py"
   ]
  },
  {
   "cell_type": "code",
   "execution_count": 37,
   "metadata": {},
   "outputs": [],
   "source": [
    "def map_feature(x1, x2):\n",
    "    \"\"\"\n",
    "     MAPFEATURE Feature mapping function to polynomial features\n",
    "     \n",
    "     MAPFEATURE(X1, X2) maps the two input features\n",
    "     to quadratic features used in the regularization exercise.\n",
    "     \n",
    "     Returns a new feature array with more features, comprising of \n",
    "     X1, X2, X1.^2, X2.^2, X1*X2, X1*X2.^2, etc..\n",
    "     \n",
    "     Inputs X1, X2 must be the same size\n",
    "    \"\"\"\n",
    "    x1.shape = (x1.size, 1)\n",
    "    x2.shape = (x2.size, 1)\n",
    "    degree = 6\n",
    "    out = np.ones(x1.shape)\n",
    "    for i in range(1, degree+1):\n",
    "        for j in range(1+i):\n",
    "            r = (x1 ** (i - j)) * (x2 ** j)\n",
    "            out = np.append(out, r, axis=1)\n",
    "    return out"
   ]
  },
  {
   "cell_type": "code",
   "execution_count": 38,
   "metadata": {},
   "outputs": [],
   "source": [
    "X = map_feature(X[:, 0], X[:, 1])"
   ]
  },
  {
   "cell_type": "code",
   "execution_count": 39,
   "metadata": {},
   "outputs": [
    {
     "data": {
      "text/plain": [
       "(118, 28)"
      ]
     },
     "execution_count": 39,
     "metadata": {},
     "output_type": "execute_result"
    }
   ],
   "source": [
    "X.shape"
   ]
  },
  {
   "cell_type": "code",
   "execution_count": 40,
   "metadata": {},
   "outputs": [
    {
     "data": {
      "text/plain": [
       "(28,)"
      ]
     },
     "execution_count": 40,
     "metadata": {},
     "output_type": "execute_result"
    }
   ],
   "source": [
    "n = X.shape[1]\n",
    "initial_theta = np.zeros(n) # .reshape(n,1)\n",
    "initial_theta.shape"
   ]
  },
  {
   "cell_type": "code",
   "execution_count": 41,
   "metadata": {},
   "outputs": [],
   "source": [
    "lambd =1"
   ]
  },
  {
   "cell_type": "code",
   "execution_count": 42,
   "metadata": {},
   "outputs": [
    {
     "name": "stdout",
     "output_type": "stream",
     "text": [
      "Cost at initial theta (zeros): 0.693\n",
      "Expected cost (approx): 0.693\n",
      "\n",
      "Gradient at initial theta - first five values only\n",
      " 0.0085\n",
      " 0.0188\n",
      " 0.0001\n",
      " 0.0503\n",
      " 0.0115\n",
      "\n",
      "Expected gradients (approx) - first five values only:\n",
      " 0.0085\n",
      " 0.0188\n",
      " 0.0001\n",
      " 0.0503\n",
      " 0.0115\n",
      "\n"
     ]
    }
   ],
   "source": [
    "cost = cost_function_reg(initial_theta, X, y, lambd)\n",
    "print(f'Cost at initial theta (zeros): {cost:.3f}')\n",
    "print('Expected cost (approx): 0.693')\n",
    "\n",
    "grad = gradient_reg(initial_theta, X, y, lambd)\n",
    "print('\\nGradient at initial theta - first five values only')\n",
    "for value in grad[0:5]:\n",
    "    print(f' {value[0]:.4f}');\n",
    "print('\\nExpected gradients (approx) - first five values only:')\n",
    "print(' 0.0085\\n 0.0188\\n 0.0001\\n 0.0503\\n 0.0115\\n')"
   ]
  },
  {
   "cell_type": "code",
   "execution_count": 43,
   "metadata": {},
   "outputs": [
    {
     "name": "stdout",
     "output_type": "stream",
     "text": [
      "Cost at test theta (with lambda = 10): 3.16\n",
      "Expected cost (approx): 3.16\n"
     ]
    }
   ],
   "source": [
    "test_theta = np.ones(n)\n",
    "\n",
    "cost = cost_function_reg(test_theta, X, y, 10)\n",
    "print(f'Cost at test theta (with lambda = 10): {cost:.2f}')\n",
    "print('Expected cost (approx): 3.16')"
   ]
  },
  {
   "cell_type": "code",
   "execution_count": 44,
   "metadata": {},
   "outputs": [
    {
     "name": "stdout",
     "output_type": "stream",
     "text": [
      "Gradient at test theta - first five values only\n",
      " 0.3460\n",
      " 0.1614\n",
      " 0.1948\n",
      " 0.2269\n",
      " 0.0922\n",
      "Expected gradients (approx) - first five values only:\n",
      " 0.3460\n",
      " 0.1614\n",
      " 0.1948\n",
      " 0.2269\n",
      " 0.0922\n",
      "\n"
     ]
    }
   ],
   "source": [
    "grad = gradient_reg(test_theta, X, y, 10)\n",
    "print('Gradient at test theta - first five values only')\n",
    "for value in grad[0:5]:\n",
    "    print(f' {value[0]:.4f}');\n",
    "print('Expected gradients (approx) - first five values only:')\n",
    "print(' 0.3460\\n 0.1614\\n 0.1948\\n 0.2269\\n 0.0922\\n')"
   ]
  },
  {
   "cell_type": "markdown",
   "metadata": {},
   "source": [
    "# NOT TO LARGE LAMBDA"
   ]
  },
  {
   "cell_type": "code",
   "execution_count": 45,
   "metadata": {},
   "outputs": [],
   "source": [
    "lambd = 1\n",
    "options = {'maxiter': 100, 'disp': True}\n",
    "result = op.minimize(fun=cost_function_reg, \n",
    "                    x0=initial_theta,\n",
    "                    args=(X, y, lambd),\n",
    "                    method='TNC',\n",
    "                    jac=gradient_reg,\n",
    "                    options=options)\n",
    "\n",
    "theta = result.x"
   ]
  },
  {
   "cell_type": "code",
   "execution_count": 46,
   "metadata": {},
   "outputs": [
    {
     "data": {
      "text/plain": [
       "<matplotlib.legend.Legend at 0x224a748f748>"
      ]
     },
     "execution_count": 46,
     "metadata": {},
     "output_type": "execute_result"
    },
    {
     "data": {
      "image/png": "[encoded data removed]",
      "text/plain": [
       "<Figure size 720x432 with 1 Axes>"
      ]
     },
     "metadata": {
      "needs_background": "light"
     },
     "output_type": "display_data"
    }
   ],
   "source": [
    "fig, ax = plt.subplots(figsize=(10,6))\n",
    "plot_decision_boundary(theta, X, y, ax, label=['y = 1', 'y = 0', 'Decision Boundary'])\n",
    "ax.set_xlabel('Microchip Test 1')\n",
    "ax.set_ylabel('Microchip Test 2')\n",
    "ax.set_title('lambda = ' + str(lambd))\n",
    "ax.legend(['y = 1', 'y = 0', 'Decision Boundary'], loc=3, frameon=True, shadow=True)"
   ]
  },
  {
   "cell_type": "code",
   "execution_count": 47,
   "metadata": {},
   "outputs": [
    {
     "name": "stdout",
     "output_type": "stream",
     "text": [
      "Train Accuracy: 83.1\n",
      "Expected accuracy (with lambda = 1): 83.1 (approx)\n"
     ]
    }
   ],
   "source": [
    "p = predict(theta, X)\n",
    "\n",
    "print(f'Train Accuracy: {np.mean(np.double(p == y)) * 100:.1f}')\n",
    "print('Expected accuracy (with lambda = 1): 83.1 (approx)')"
   ]
  },
  {
   "cell_type": "markdown",
   "metadata": {},
   "source": [
    "# OVERFITTING"
   ]
  },
  {
   "cell_type": "code",
   "execution_count": 48,
   "metadata": {},
   "outputs": [
    {
     "name": "stdout",
     "output_type": "stream",
     "text": [
      "Train Accuracy: 87.3\n"
     ]
    },
    {
     "data": {
      "image/png": "[encoded data removed]",
      "text/plain": [
       "<Figure size 720x432 with 1 Axes>"
      ]
     },
     "metadata": {
      "needs_background": "light"
     },
     "output_type": "display_data"
    }
   ],
   "source": [
    "lambd = 0\n",
    "options = {'maxiter': 100, 'disp': True}\n",
    "result = op.minimize(fun=cost_function_reg, \n",
    "                    x0=initial_theta,\n",
    "                    args=(X, y, lambd),\n",
    "                    method='TNC',\n",
    "                    jac=gradient_reg,\n",
    "                    options=options)\n",
    "\n",
    "theta = result.x\n",
    "\n",
    "fig, ax = plt.subplots(figsize=(10,6))\n",
    "# plt.legend(['y = 1', 'y = 0', 'Decision Boundary'], loc=3, frameon=True, shadow=True)\n",
    "plot_decision_boundary(theta, X, y, ax, label=['y = 1', 'y = 0', 'Decision Boundary'])\n",
    "ax.set_xlabel('Microchip Test 1')\n",
    "ax.set_ylabel('Microchip Test 2')\n",
    "ax.set_title('lambda = ' + str(lambd))\n",
    "ax.legend(['y = 1', 'y = 0', 'Decision Boundary'], loc=3, frameon=True, shadow=True)\n",
    "\n",
    "p = predict(theta, X)\n",
    "print(f'Train Accuracy: {np.mean(np.double(p == y)) * 100:.1f}')"
   ]
  },
  {
   "cell_type": "markdown",
   "metadata": {},
   "source": [
    "# UNDERFITTING"
   ]
  },
  {
   "cell_type": "code",
   "execution_count": 49,
   "metadata": {},
   "outputs": [
    {
     "name": "stdout",
     "output_type": "stream",
     "text": [
      "Train Accuracy: 61.0\n"
     ]
    },
    {
     "data": {
      "image/png": "[encoded data removed]",
      "text/plain": [
       "<Figure size 720x432 with 1 Axes>"
      ]
     },
     "metadata": {
      "needs_background": "light"
     },
     "output_type": "display_data"
    }
   ],
   "source": [
    "lambd = 100\n",
    "options = {'maxiter': 100, 'disp': True}\n",
    "result = op.minimize(fun=cost_function_reg, \n",
    "                    x0=initial_theta,\n",
    "                    args=(X, y, lambd),\n",
    "                    method='TNC',\n",
    "                    jac=gradient_reg,\n",
    "                    options=options)\n",
    "\n",
    "theta = result.x\n",
    "\n",
    "fig, ax = plt.subplots(figsize=(10,6))\n",
    "# plt.legend(['y = 1', 'y = 0', 'Decision Boundary'], loc=3, frameon=True, shadow=True)\n",
    "plot_decision_boundary(theta, X, y, ax, label=['y = 1', 'y = 0', 'Decision Boundary'])\n",
    "ax.set_xlabel('Microchip Test 1')\n",
    "ax.set_ylabel('Microchip Test 2')\n",
    "ax.set_title('lambda = ' + str(lambd))\n",
    "ax.legend(['y = 1', 'y = 0', 'Decision Boundary'], loc=3, frameon=True, shadow=True)\n",
    "\n",
    "p = predict(theta, X)\n",
    "print(f'Train Accuracy: {np.mean(np.double(p == y)) * 100:.1f}')"
   ]
  },
  {
   "cell_type": "code",
   "execution_count": null,
   "metadata": {},
   "outputs": [],
   "source": []
  }
 ],
 "metadata": {
  "kernelspec": {
   "display_name": "Python 3",
   "language": "python",
   "name": "python3"
  },
  "language_info": {
   "codemirror_mode": {
    "name": "ipython",
    "version": 3
   },
   "file_extension": ".py",
   "mimetype": "text/x-python",
   "name": "python",
   "nbconvert_exporter": "python",
   "pygments_lexer": "ipython3",
   "version": "3.6.6"
  }
 },
 "nbformat": 4,
 "nbformat_minor": 2
}
