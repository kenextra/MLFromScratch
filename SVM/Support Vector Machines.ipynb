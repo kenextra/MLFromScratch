{
 "cells": [
  {
   "cell_type": "code",
   "execution_count": 1,
   "metadata": {},
   "outputs": [],
   "source": [
    "%load_ext autoreload\n",
    "%autoreload 2"
   ]
  },
  {
   "cell_type": "markdown",
   "metadata": {},
   "source": [
    "# Import Libraries"
   ]
  },
  {
   "cell_type": "code",
   "execution_count": 2,
   "metadata": {},
   "outputs": [],
   "source": [
    "import numpy as np\n",
    "from scipy.io import loadmat\n",
    "\n",
    "from utils import get_vocab_list, get_vocab_list2, process_email, email_features\n",
    "from svm import SVM, linear_kernel, polynomial_kernel, gaussian_kernel"
   ]
  },
  {
   "cell_type": "markdown",
   "metadata": {},
   "source": [
    "# Email Preprocessing"
   ]
  },
  {
   "cell_type": "code",
   "execution_count": 3,
   "metadata": {},
   "outputs": [],
   "source": [
    "file_contents = open(\"data/emailSample1.txt\").read()\n",
    "vocab_list = get_vocab_list('data/vocab.txt')\n",
    "word_indices = process_email(file_contents, vocab_list)"
   ]
  },
  {
   "cell_type": "markdown",
   "metadata": {},
   "source": [
    "# Feature Extraction"
   ]
  },
  {
   "cell_type": "code",
   "execution_count": 4,
   "metadata": {},
   "outputs": [],
   "source": [
    "n = len(vocab_list)\n",
    "features = email_features(word_indices, n)"
   ]
  },
  {
   "cell_type": "code",
   "execution_count": 5,
   "metadata": {},
   "outputs": [
    {
     "data": {
      "text/plain": [
       "(1899, 1)"
      ]
     },
     "execution_count": 5,
     "metadata": {},
     "output_type": "execute_result"
    }
   ],
   "source": [
    "features.shape"
   ]
  },
  {
   "cell_type": "code",
   "execution_count": 6,
   "metadata": {},
   "outputs": [
    {
     "name": "stdout",
     "output_type": "stream",
     "text": [
      "Length of feature vector: 1899\n",
      "Number of non-zero entries: [45]\n"
     ]
    }
   ],
   "source": [
    "print(f\"Length of feature vector: {features.size}\")\n",
    "print(f\"Number of non-zero entries: {sum(features > 0)}\")"
   ]
  },
  {
   "cell_type": "markdown",
   "metadata": {},
   "source": [
    "# Train Linear SVM for Spam Classification"
   ]
  },
  {
   "cell_type": "code",
   "execution_count": 7,
   "metadata": {},
   "outputs": [
    {
     "data": {
      "text/plain": [
       "dict_keys(['__header__', '__version__', '__globals__', 'X', 'y'])"
      ]
     },
     "execution_count": 7,
     "metadata": {},
     "output_type": "execute_result"
    }
   ],
   "source": [
    "# Load the Spam Email dataset\n",
    "data = loadmat(\"data/spamTrain.mat\")\n",
    "data.keys()"
   ]
  },
  {
   "cell_type": "code",
   "execution_count": 8,
   "metadata": {},
   "outputs": [],
   "source": [
    "X, y = data['X'], data['y']\n",
    "C = 0.1"
   ]
  },
  {
   "cell_type": "code",
   "execution_count": 9,
   "metadata": {},
   "outputs": [],
   "source": [
    "model = SVM()"
   ]
  },
  {
   "cell_type": "code",
   "execution_count": 10,
   "metadata": {},
   "outputs": [
    {
     "name": "stdout",
     "output_type": "stream",
     "text": [
      "Pre-computing the kernel matrix\n",
      "Training...\n",
      "This may take 1 to 2 minutes\n",
      "Elapsed time: 334.8648 seconds\n"
     ]
    }
   ],
   "source": [
    "model.svmTrain(X, y)"
   ]
  },
  {
   "cell_type": "code",
   "execution_count": 11,
   "metadata": {},
   "outputs": [],
   "source": [
    "y_predicted = model.svmPredict(X)"
   ]
  },
  {
   "cell_type": "code",
   "execution_count": 12,
   "metadata": {},
   "outputs": [
    {
     "name": "stdout",
     "output_type": "stream",
     "text": [
      "Training Accuracy: 96.475\n"
     ]
    }
   ],
   "source": [
    "print(f\"Training Accuracy: {np.mean(y_predicted==y) *100}\")"
   ]
  },
  {
   "cell_type": "markdown",
   "metadata": {},
   "source": [
    "# Test Spam Classification"
   ]
  },
  {
   "cell_type": "code",
   "execution_count": 13,
   "metadata": {},
   "outputs": [
    {
     "data": {
      "text/plain": [
       "dict_keys(['__header__', '__version__', '__globals__', 'Xtest', 'ytest'])"
      ]
     },
     "execution_count": 13,
     "metadata": {},
     "output_type": "execute_result"
    }
   ],
   "source": [
    "Test_data = loadmat('data/spamTest.mat')\n",
    "Test_data.keys()"
   ]
  },
  {
   "cell_type": "code",
   "execution_count": 14,
   "metadata": {},
   "outputs": [],
   "source": [
    "Xtest, ytest = Test_data['Xtest'], Test_data['ytest']"
   ]
  },
  {
   "cell_type": "code",
   "execution_count": 15,
   "metadata": {},
   "outputs": [],
   "source": [
    "p_ytest = model.svmPredict(Xtest)"
   ]
  },
  {
   "cell_type": "code",
   "execution_count": 16,
   "metadata": {},
   "outputs": [
    {
     "name": "stdout",
     "output_type": "stream",
     "text": [
      "Training Accuracy: 94.39999999999999\n"
     ]
    }
   ],
   "source": [
    "print(f\"Training Accuracy: {np.mean(p_ytest==ytest) *100}\")"
   ]
  },
  {
   "cell_type": "code",
   "execution_count": 17,
   "metadata": {},
   "outputs": [
    {
     "data": {
      "text/plain": [
       "(1899, 1)"
      ]
     },
     "execution_count": 17,
     "metadata": {},
     "output_type": "execute_result"
    }
   ],
   "source": [
    "model.model.get('w').shape"
   ]
  },
  {
   "cell_type": "markdown",
   "metadata": {},
   "source": [
    "# Predict using other email"
   ]
  },
  {
   "cell_type": "code",
   "execution_count": 18,
   "metadata": {},
   "outputs": [],
   "source": [
    "filename = \"data/myspamemail.txt\"\n",
    "file_contents = open(filename).read().strip()\n",
    "word_indices = process_email(file_contents, vocab_list)\n",
    "x = email_features(word_indices, n)\n",
    "p = model.svmPredict(x)"
   ]
  },
  {
   "cell_type": "code",
   "execution_count": 19,
   "metadata": {},
   "outputs": [
    {
     "name": "stdout",
     "output_type": "stream",
     "text": [
      "\n",
      "Processed data/myspamemail.txt\n",
      "\n",
      "Spam Classification: 1.0\n",
      "\n",
      "(1 indicates spam, 0 indicates not spam)\n"
     ]
    }
   ],
   "source": [
    "print(f\"\\nProcessed {filename}\\n\\nSpam Classification: {p[0][0]}\")\n",
    "print(\"\\n(1 indicates spam, 0 indicates not spam)\")"
   ]
  },
  {
   "cell_type": "markdown",
   "metadata": {},
   "source": [
    "# Top Predictors of Spam"
   ]
  },
  {
   "cell_type": "code",
   "execution_count": 20,
   "metadata": {},
   "outputs": [],
   "source": [
    "# Get and sort the weights\n",
    "W = model.model.get('w')"
   ]
  },
  {
   "cell_type": "code",
   "execution_count": 21,
   "metadata": {},
   "outputs": [],
   "source": [
    "W_sorted = np.sort(W, axis=0)\n",
    "weight = W_sorted[::-1].flatten().tolist()\n",
    "W_idx = np.argsort(W, axis=0)\n",
    "idx = W_idx[::-1].flatten().tolist()"
   ]
  },
  {
   "cell_type": "code",
   "execution_count": 22,
   "metadata": {},
   "outputs": [
    {
     "data": {
      "text/plain": [
       "[2.7035183042551143,\n",
       " 2.376440807775023,\n",
       " 2.099522784978463,\n",
       " 2.0483362651220083,\n",
       " 2.0434920597098754]"
      ]
     },
     "execution_count": 22,
     "metadata": {},
     "output_type": "execute_result"
    }
   ],
   "source": [
    "weight[:5]"
   ]
  },
  {
   "cell_type": "code",
   "execution_count": 23,
   "metadata": {},
   "outputs": [
    {
     "data": {
      "text/plain": [
       "[1397, 1860, 1008, 1851, 529]"
      ]
     },
     "execution_count": 23,
     "metadata": {},
     "output_type": "execute_result"
    }
   ],
   "source": [
    "idx[:5]"
   ]
  },
  {
   "cell_type": "code",
   "execution_count": 24,
   "metadata": {},
   "outputs": [],
   "source": [
    "vocab_dict = get_vocab_list2(\"data/vocab.txt\")"
   ]
  },
  {
   "cell_type": "code",
   "execution_count": 25,
   "metadata": {},
   "outputs": [
    {
     "name": "stdout",
     "output_type": "stream",
     "text": [
      "Top predictors of spam: \n",
      "remov, 2.7035183042551143\n",
      "within, 2.376440807775023\n",
      "market, 2.099522784978463\n",
      "will, 2.0483362651220083\n",
      "email, 2.0434920597098754\n",
      "inform, 2.035898930776365\n",
      "your, 2.0007277845692273\n",
      "pleas, 1.9378162761278548\n",
      "per, 1.9157006256979905\n",
      "hour, 1.896653337728277\n",
      "our, 1.8933925661828364\n",
      "am, 1.8932732885695733\n",
      "monei, 1.881038173767701\n",
      "offer, 1.8578912613218643\n",
      "guarante, 1.8533784527444772\n"
     ]
    }
   ],
   "source": [
    "print(\"Top predictors of spam: \")\n",
    "for i in range(15):\n",
    "    index = idx[i]+1\n",
    "    print(f\"{vocab_dict[index]}, {weight[i]}\")"
   ]
  },
  {
   "cell_type": "markdown",
   "metadata": {},
   "source": [
    "# Choosing C and sigma for RBF (Gaussian) Kernel"
   ]
  },
  {
   "cell_type": "code",
   "execution_count": 35,
   "metadata": {},
   "outputs": [],
   "source": [
    "from utils import parameter_search, plot_data\n",
    "import matplotlib.pyplot as plt"
   ]
  },
  {
   "cell_type": "code",
   "execution_count": 36,
   "metadata": {},
   "outputs": [
    {
     "data": {
      "text/plain": [
       "dict_keys(['__header__', '__version__', '__globals__', 'X', 'y'])"
      ]
     },
     "execution_count": 36,
     "metadata": {},
     "output_type": "execute_result"
    }
   ],
   "source": [
    "data1 = loadmat('data/ex6data1.mat')\n",
    "data1.keys()"
   ]
  },
  {
   "cell_type": "code",
   "execution_count": 37,
   "metadata": {},
   "outputs": [
    {
     "name": "stdout",
     "output_type": "stream",
     "text": [
      "(51, 2)\n",
      "(51, 1)\n"
     ]
    }
   ],
   "source": [
    "X = data1['X']\n",
    "print(X.shape)\n",
    "y = data1['y']\n",
    "print(y.shape)"
   ]
  },
  {
   "cell_type": "code",
   "execution_count": 38,
   "metadata": {},
   "outputs": [
    {
     "data": {
      "image/png": "[encoded data removed]",
      "text/plain": [
       "<Figure size 720x432 with 1 Axes>"
      ]
     },
     "metadata": {
      "needs_background": "light"
     },
     "output_type": "display_data"
    }
   ],
   "source": [
    "fig, ax = plt.subplots(figsize=(10,6))\n",
    "plot_data(features=X, labels=y, ax=ax)"
   ]
  },
  {
   "cell_type": "code",
   "execution_count": 39,
   "metadata": {},
   "outputs": [
    {
     "name": "stdout",
     "output_type": "stream",
     "text": [
      "Pre-computing the kernel matrix\n",
      "Training...\n",
      "This may take 1 to 2 minutes\n",
      "Elapsed time: 0.1436 seconds\n"
     ]
    }
   ],
   "source": [
    "C = 1\n",
    "model = SVM(C=C)\n",
    "model.svmTrain(X, y)"
   ]
  },
  {
   "cell_type": "code",
   "execution_count": 40,
   "metadata": {},
   "outputs": [],
   "source": [
    "from utils import plot_linear_decision_boundary"
   ]
  },
  {
   "cell_type": "code",
   "execution_count": 41,
   "metadata": {},
   "outputs": [
    {
     "data": {
      "image/png": "[encoded data removed]",
      "text/plain": [
       "<Figure size 720x432 with 1 Axes>"
      ]
     },
     "metadata": {
      "needs_background": "light"
     },
     "output_type": "display_data"
    }
   ],
   "source": [
    "fig, ax = plt.subplots(figsize=(10,6))\n",
    "plot_linear_decision_boundary(X, y, model, ax)"
   ]
  },
  {
   "cell_type": "code",
   "execution_count": 42,
   "metadata": {},
   "outputs": [
    {
     "name": "stdout",
     "output_type": "stream",
     "text": [
      "Pre-computing the kernel matrix\n",
      "Training...\n",
      "This may take 1 to 2 minutes\n",
      "Elapsed time: 3.5690 seconds\n"
     ]
    }
   ],
   "source": [
    "data2 = loadmat(\"data/ex6data2.mat\")\n",
    "X = data2['X']\n",
    "y = data2['y']\n",
    "model = SVM()\n",
    "model.svmTrain(X,y)"
   ]
  },
  {
   "cell_type": "code",
   "execution_count": 43,
   "metadata": {},
   "outputs": [],
   "source": [
    "def plot_decision_boundary(model, X, y, ax):\n",
    "    plot_data(X, y, ax)\n",
    "    x1plot = np.linspace(np.min(X[:, 0]), np.max(X[:, 0]), 100)\n",
    "    x2plot = np.linspace(np.min(X[:, 1]), np.max(X[:, 1]), 100)\n",
    "    X1, X2 = np.meshgrid(x1plot, x2plot)\n",
    "    vals = np.zeros(X1.shape)\n",
    "    for i in range(X1.shape[1]):\n",
    "        x1 = np.reshape(X1[:,i], (-1, 1))\n",
    "        x2 = np.reshape(X2[:,i], (-1, 1))\n",
    "        this_X = np.hstack((x1, x2))\n",
    "        vals[:, i] = model.svmPredict(this_X).flatten()\n",
    "        \n",
    "    ax.contour(X1, X2, vals, linewidths=2)"
   ]
  },
  {
   "cell_type": "code",
   "execution_count": 44,
   "metadata": {},
   "outputs": [
    {
     "name": "stderr",
     "output_type": "stream",
     "text": [
      "c:\\users\\kene\\desktop\\mlfromscratch\\mls_env\\lib\\site-packages\\ipykernel_launcher.py:13: UserWarning: No contour levels were found within the data range.\n",
      "  del sys.path[0]\n"
     ]
    },
    {
     "data": {
      "image/png": "[encoded data removed]",
      "text/plain": [
       "<Figure size 720x432 with 1 Axes>"
      ]
     },
     "metadata": {
      "needs_background": "light"
     },
     "output_type": "display_data"
    }
   ],
   "source": [
    "fig, ax = plt.subplots(figsize=(10,6))\n",
    "plot_decision_boundary(model, X, y, ax)"
   ]
  },
  {
   "cell_type": "code",
   "execution_count": 45,
   "metadata": {},
   "outputs": [
    {
     "data": {
      "text/plain": [
       "dict_keys(['__header__', '__version__', '__globals__', 'X', 'y', 'yval', 'Xval'])"
      ]
     },
     "execution_count": 45,
     "metadata": {},
     "output_type": "execute_result"
    }
   ],
   "source": [
    "data3 = loadmat(\"data/ex6data3.mat\")\n",
    "data3.keys()"
   ]
  },
  {
   "cell_type": "code",
   "execution_count": 46,
   "metadata": {},
   "outputs": [],
   "source": [
    "X = data3['X']\n",
    "y = data3['y']\n",
    "Xval = data3['Xval']\n",
    "yval = data3['yval']"
   ]
  },
  {
   "cell_type": "code",
   "execution_count": 47,
   "metadata": {},
   "outputs": [
    {
     "name": "stdout",
     "output_type": "stream",
     "text": [
      "Pre-computing the kernel matrix\n",
      "Training...\n",
      "This may take 1 to 2 minutes\n",
      "Elapsed time: 0.3726 seconds\n",
      "Pre-computing the kernel matrix\n",
      "Training...\n",
      "This may take 1 to 2 minutes\n",
      "Elapsed time: 0.0546 seconds\n",
      "Pre-computing the kernel matrix\n",
      "Training...\n",
      "This may take 1 to 2 minutes\n"
     ]
    },
    {
     "name": "stderr",
     "output_type": "stream",
     "text": [
      "C:\\Users\\Kene\\Desktop\\MLFromScratch\\SVM\\svm.py:78: RuntimeWarning: divide by zero encountered in power\n",
      "  K = np.power(self.kernel(1, 0, self.sigma), K)\n",
      "C:\\Users\\Kene\\Desktop\\MLFromScratch\\SVM\\svm.py:101: RuntimeWarning: invalid value encountered in multiply\n",
      "  E[i] = b + np.sum(alphas * Y * K[:, i].reshape(-1, 1)) - Y[i]\n",
      "C:\\Users\\Kene\\Desktop\\MLFromScratch\\SVM\\svm.py:103: RuntimeWarning: invalid value encountered in less\n",
      "  if (Y[i] * E[i] < -self.tol and alphas[i] < self.C) or (Y[i] * E[i] > self.tol and alphas[i] > 0):\n",
      "C:\\Users\\Kene\\Desktop\\MLFromScratch\\SVM\\svm.py:103: RuntimeWarning: invalid value encountered in greater\n",
      "  if (Y[i] * E[i] < -self.tol and alphas[i] < self.C) or (Y[i] * E[i] > self.tol and alphas[i] > 0):\n",
      "C:\\Users\\Kene\\Desktop\\MLFromScratch\\SVM\\svm.py:109: RuntimeWarning: invalid value encountered in multiply\n",
      "  E[j] = b + np.sum(alphas * Y * K[:, j].reshape(-1, 1)) - Y[j]\n",
      "C:\\Users\\Kene\\Desktop\\MLFromScratch\\SVM\\svm.py:136: RuntimeWarning: invalid value encountered in less\n",
      "  alphas[j] = min(H, alphas[j])\n"
     ]
    },
    {
     "name": "stdout",
     "output_type": "stream",
     "text": [
      "Elapsed time: 0.4171 seconds\n",
      "Pre-computing the kernel matrix\n",
      "Training...\n",
      "This may take 1 to 2 minutes\n",
      "Elapsed time: 0.6369 seconds\n",
      "Pre-computing the kernel matrix\n",
      "Training...\n",
      "This may take 1 to 2 minutes\n",
      "Elapsed time: 0.6754 seconds\n",
      "Pre-computing the kernel matrix\n",
      "Training...\n",
      "This may take 1 to 2 minutes\n",
      "Elapsed time: 0.8915 seconds\n",
      "Pre-computing the kernel matrix\n",
      "Training...\n",
      "This may take 1 to 2 minutes\n",
      "Elapsed time: 0.6709 seconds\n",
      "Pre-computing the kernel matrix\n",
      "Training...\n",
      "This may take 1 to 2 minutes\n",
      "Elapsed time: 0.3658 seconds\n",
      "Pre-computing the kernel matrix\n",
      "Training...\n",
      "This may take 1 to 2 minutes\n",
      "Elapsed time: 0.5833 seconds\n",
      "Pre-computing the kernel matrix\n",
      "Training...\n",
      "This may take 1 to 2 minutes\n",
      "Elapsed time: 0.5680 seconds\n",
      "Pre-computing the kernel matrix\n",
      "Training...\n",
      "This may take 1 to 2 minutes\n",
      "Elapsed time: 0.5073 seconds\n",
      "Pre-computing the kernel matrix\n",
      "Training...\n",
      "This may take 1 to 2 minutes\n",
      "Elapsed time: 0.6563 seconds\n",
      "Pre-computing the kernel matrix\n",
      "Training...\n",
      "This may take 1 to 2 minutes\n",
      "Elapsed time: 0.7628 seconds\n",
      "Pre-computing the kernel matrix\n",
      "Training...\n",
      "This may take 1 to 2 minutes\n",
      "Elapsed time: 0.6319 seconds\n",
      "Pre-computing the kernel matrix\n",
      "Training...\n",
      "This may take 1 to 2 minutes\n",
      "Elapsed time: 0.6480 seconds\n",
      "Pre-computing the kernel matrix\n",
      "Training...\n",
      "This may take 1 to 2 minutes\n",
      "Elapsed time: 0.6776 seconds\n",
      "Pre-computing the kernel matrix\n",
      "Training...\n",
      "This may take 1 to 2 minutes\n",
      "Elapsed time: 0.5722 seconds\n",
      "Pre-computing the kernel matrix\n",
      "Training...\n",
      "This may take 1 to 2 minutes\n",
      "Elapsed time: 0.9594 seconds\n",
      "Pre-computing the kernel matrix\n",
      "Training...\n",
      "This may take 1 to 2 minutes\n",
      "Elapsed time: 0.6446 seconds\n",
      "Pre-computing the kernel matrix\n",
      "Training...\n",
      "This may take 1 to 2 minutes\n",
      "Elapsed time: 0.5512 seconds\n",
      "Pre-computing the kernel matrix\n",
      "Training...\n",
      "This may take 1 to 2 minutes\n",
      "Elapsed time: 0.7067 seconds\n",
      "Pre-computing the kernel matrix\n",
      "Training...\n",
      "This may take 1 to 2 minutes\n",
      "Elapsed time: 0.7738 seconds\n",
      "Pre-computing the kernel matrix\n",
      "Training...\n",
      "This may take 1 to 2 minutes\n",
      "Elapsed time: 0.6496 seconds\n",
      "Pre-computing the kernel matrix\n",
      "Training...\n",
      "This may take 1 to 2 minutes\n",
      "Elapsed time: 0.6595 seconds\n",
      "Pre-computing the kernel matrix\n",
      "Training...\n",
      "This may take 1 to 2 minutes\n",
      "Elapsed time: 0.5286 seconds\n",
      "Pre-computing the kernel matrix\n",
      "Training...\n",
      "This may take 1 to 2 minutes\n",
      "Elapsed time: 0.4691 seconds\n",
      "Pre-computing the kernel matrix\n",
      "Training...\n",
      "This may take 1 to 2 minutes\n",
      "Elapsed time: 0.4851 seconds\n",
      "Pre-computing the kernel matrix\n",
      "Training...\n",
      "This may take 1 to 2 minutes\n",
      "Elapsed time: 0.6846 seconds\n",
      "Pre-computing the kernel matrix\n",
      "Training...\n",
      "This may take 1 to 2 minutes\n",
      "Elapsed time: 0.5967 seconds\n",
      "Pre-computing the kernel matrix\n",
      "Training...\n",
      "This may take 1 to 2 minutes\n",
      "Elapsed time: 0.7033 seconds\n",
      "Pre-computing the kernel matrix\n",
      "Training...\n",
      "This may take 1 to 2 minutes\n",
      "Elapsed time: 0.5905 seconds\n",
      "Pre-computing the kernel matrix\n",
      "Training...\n",
      "This may take 1 to 2 minutes\n",
      "Elapsed time: 0.9954 seconds\n",
      "Pre-computing the kernel matrix\n",
      "Training...\n",
      "This may take 1 to 2 minutes\n",
      "Elapsed time: 0.5712 seconds\n",
      "Pre-computing the kernel matrix\n",
      "Training...\n",
      "This may take 1 to 2 minutes\n",
      "Elapsed time: 0.8231 seconds\n",
      "Pre-computing the kernel matrix\n",
      "Training...\n",
      "This may take 1 to 2 minutes\n",
      "Elapsed time: 0.5461 seconds\n",
      "Pre-computing the kernel matrix\n",
      "Training...\n",
      "This may take 1 to 2 minutes\n",
      "Elapsed time: 0.7029 seconds\n",
      "Pre-computing the kernel matrix\n",
      "Training...\n",
      "This may take 1 to 2 minutes\n",
      "Elapsed time: 1.6842 seconds\n",
      "Pre-computing the kernel matrix\n",
      "Training...\n",
      "This may take 1 to 2 minutes\n",
      "Elapsed time: 1.3153 seconds\n",
      "Pre-computing the kernel matrix\n",
      "Training...\n",
      "This may take 1 to 2 minutes\n",
      "Elapsed time: 1.3227 seconds\n",
      "Pre-computing the kernel matrix\n",
      "Training...\n",
      "This may take 1 to 2 minutes\n",
      "Elapsed time: 0.9854 seconds\n",
      "Pre-computing the kernel matrix\n",
      "Training...\n",
      "This may take 1 to 2 minutes\n",
      "Elapsed time: 1.6681 seconds\n",
      "Pre-computing the kernel matrix\n",
      "Training...\n",
      "This may take 1 to 2 minutes\n",
      "Elapsed time: 2.2644 seconds\n",
      "Pre-computing the kernel matrix\n",
      "Training...\n",
      "This may take 1 to 2 minutes\n",
      "Elapsed time: 1.9528 seconds\n",
      "Pre-computing the kernel matrix\n",
      "Training...\n",
      "This may take 1 to 2 minutes\n",
      "Elapsed time: 2.1120 seconds\n",
      "Pre-computing the kernel matrix\n",
      "Training...\n",
      "This may take 1 to 2 minutes\n",
      "Elapsed time: 1.5919 seconds\n",
      "Pre-computing the kernel matrix\n",
      "Training...\n",
      "This may take 1 to 2 minutes\n",
      "Elapsed time: 1.4416 seconds\n",
      "Pre-computing the kernel matrix\n",
      "Training...\n",
      "This may take 1 to 2 minutes\n",
      "Elapsed time: 1.2437 seconds\n",
      "Pre-computing the kernel matrix\n",
      "Training...\n",
      "This may take 1 to 2 minutes\n",
      "Elapsed time: 1.5029 seconds\n",
      "Pre-computing the kernel matrix\n",
      "Training...\n",
      "This may take 1 to 2 minutes\n",
      "Elapsed time: 2.1765 seconds\n",
      "Pre-computing the kernel matrix\n",
      "Training...\n",
      "This may take 1 to 2 minutes\n",
      "Elapsed time: 1.2427 seconds\n",
      "Pre-computing the kernel matrix\n",
      "Training...\n",
      "This may take 1 to 2 minutes\n",
      "Elapsed time: 1.0362 seconds\n",
      "Pre-computing the kernel matrix\n",
      "Training...\n",
      "This may take 1 to 2 minutes\n",
      "Elapsed time: 1.2424 seconds\n",
      "Pre-computing the kernel matrix\n",
      "Training...\n",
      "This may take 1 to 2 minutes\n",
      "Elapsed time: 1.7680 seconds\n",
      "Pre-computing the kernel matrix\n",
      "Training...\n",
      "This may take 1 to 2 minutes\n",
      "Elapsed time: 1.4906 seconds\n",
      "Pre-computing the kernel matrix\n",
      "Training...\n",
      "This may take 1 to 2 minutes\n",
      "Elapsed time: 1.2168 seconds\n",
      "Pre-computing the kernel matrix\n",
      "Training...\n",
      "This may take 1 to 2 minutes\n",
      "Elapsed time: 1.0770 seconds\n",
      "Pre-computing the kernel matrix\n",
      "Training...\n",
      "This may take 1 to 2 minutes\n",
      "Elapsed time: 2.1564 seconds\n",
      "Pre-computing the kernel matrix\n",
      "Training...\n",
      "This may take 1 to 2 minutes\n",
      "Elapsed time: 1.7587 seconds\n",
      "Pre-computing the kernel matrix\n",
      "Training...\n",
      "This may take 1 to 2 minutes\n",
      "Elapsed time: 1.2406 seconds\n",
      "Pre-computing the kernel matrix\n",
      "Training...\n",
      "This may take 1 to 2 minutes\n",
      "Elapsed time: 1.3722 seconds\n",
      "Pre-computing the kernel matrix\n",
      "Training...\n",
      "This may take 1 to 2 minutes\n",
      "Elapsed time: 2.6136 seconds\n",
      "Pre-computing the kernel matrix\n",
      "Training...\n",
      "This may take 1 to 2 minutes\n",
      "Elapsed time: 2.1176 seconds\n",
      "Pre-computing the kernel matrix\n",
      "Training...\n",
      "This may take 1 to 2 minutes\n",
      "Elapsed time: 0.9924 seconds\n",
      "Pre-computing the kernel matrix\n",
      "Training...\n",
      "This may take 1 to 2 minutes\n",
      "Elapsed time: 1.2700 seconds\n",
      "Pre-computing the kernel matrix\n",
      "Training...\n",
      "This may take 1 to 2 minutes\n",
      "Elapsed time: 1.2737 seconds\n",
      "Pre-computing the kernel matrix\n",
      "Training...\n",
      "This may take 1 to 2 minutes\n",
      "Elapsed time: 1.0450 seconds\n",
      "Pre-computing the kernel matrix\n",
      "Training...\n",
      "This may take 1 to 2 minutes\n",
      "Elapsed time: 1.3660 seconds\n",
      "Pre-computing the kernel matrix\n",
      "Training...\n",
      "This may take 1 to 2 minutes\n",
      "Elapsed time: 1.7786 seconds\n",
      "Pre-computing the kernel matrix\n",
      "Training...\n",
      "This may take 1 to 2 minutes\n",
      "Elapsed time: 1.2666 seconds\n",
      "Pre-computing the kernel matrix\n",
      "Training...\n",
      "This may take 1 to 2 minutes\n",
      "Elapsed time: 1.5163 seconds\n",
      "Pre-computing the kernel matrix\n",
      "Training...\n",
      "This may take 1 to 2 minutes\n",
      "Elapsed time: 0.9673 seconds\n",
      "Pre-computing the kernel matrix\n",
      "Training...\n",
      "This may take 1 to 2 minutes\n",
      "Elapsed time: 1.6365 seconds\n",
      "Pre-computing the kernel matrix\n",
      "Training...\n",
      "This may take 1 to 2 minutes\n",
      "Elapsed time: 2.0590 seconds\n",
      "Pre-computing the kernel matrix\n",
      "Training...\n",
      "This may take 1 to 2 minutes\n",
      "Elapsed time: 1.2505 seconds\n",
      "Pre-computing the kernel matrix\n",
      "Training...\n",
      "This may take 1 to 2 minutes\n",
      "Elapsed time: 1.4962 seconds\n",
      "Pre-computing the kernel matrix\n",
      "Training...\n",
      "This may take 1 to 2 minutes\n",
      "Elapsed time: 1.9449 seconds\n",
      "Pre-computing the kernel matrix\n",
      "Training...\n",
      "This may take 1 to 2 minutes\n",
      "Elapsed time: 1.2905 seconds\n",
      "Pre-computing the kernel matrix\n",
      "Training...\n",
      "This may take 1 to 2 minutes\n",
      "Elapsed time: 1.4742 seconds\n",
      "Pre-computing the kernel matrix\n",
      "Training...\n",
      "This may take 1 to 2 minutes\n",
      "Elapsed time: 2.2935 seconds\n",
      "Pre-computing the kernel matrix\n",
      "Training...\n",
      "This may take 1 to 2 minutes\n",
      "Elapsed time: 1.3154 seconds\n",
      "Pre-computing the kernel matrix\n",
      "Training...\n",
      "This may take 1 to 2 minutes\n",
      "Elapsed time: 1.0951 seconds\n"
     ]
    }
   ],
   "source": [
    "C, sigma = parameter_search(X, y, Xval, yval)"
   ]
  },
  {
   "cell_type": "code",
   "execution_count": 48,
   "metadata": {},
   "outputs": [
    {
     "data": {
      "text/plain": [
       "0.01"
      ]
     },
     "execution_count": 48,
     "metadata": {},
     "output_type": "execute_result"
    }
   ],
   "source": [
    "C"
   ]
  },
  {
   "cell_type": "code",
   "execution_count": 49,
   "metadata": {},
   "outputs": [
    {
     "data": {
      "text/plain": [
       "0.03"
      ]
     },
     "execution_count": 49,
     "metadata": {},
     "output_type": "execute_result"
    }
   ],
   "source": [
    "sigma"
   ]
  },
  {
   "cell_type": "code",
   "execution_count": 50,
   "metadata": {},
   "outputs": [],
   "source": [
    "model = SVM(kernel=gaussian_kernel, C=C, sigma=sigma)"
   ]
  },
  {
   "cell_type": "code",
   "execution_count": 51,
   "metadata": {},
   "outputs": [
    {
     "name": "stdout",
     "output_type": "stream",
     "text": [
      "Pre-computing the kernel matrix\n",
      "Training...\n",
      "This may take 1 to 2 minutes\n",
      "Elapsed time: 0.5391 seconds\n"
     ]
    }
   ],
   "source": [
    "model.svmTrain(X, y)"
   ]
  },
  {
   "cell_type": "code",
   "execution_count": 52,
   "metadata": {},
   "outputs": [],
   "source": [
    "p = model.svmPredict(Xval)"
   ]
  },
  {
   "cell_type": "code",
   "execution_count": 53,
   "metadata": {},
   "outputs": [
    {
     "name": "stdout",
     "output_type": "stream",
     "text": [
      "Training Accuracy: 81.5\n"
     ]
    }
   ],
   "source": [
    "print(f\"Training Accuracy: {np.mean(p==yval) *100}\")"
   ]
  },
  {
   "cell_type": "code",
   "execution_count": 54,
   "metadata": {},
   "outputs": [
    {
     "name": "stdout",
     "output_type": "stream",
     "text": [
      "Training Error: 18.5\n"
     ]
    }
   ],
   "source": [
    "print(f\"Training Error: {np.mean(p!=yval) * 100}\")"
   ]
  },
  {
   "cell_type": "code",
   "execution_count": null,
   "metadata": {},
   "outputs": [],
   "source": []
  }
 ],
 "metadata": {
  "kernelspec": {
   "display_name": "Python 3",
   "language": "python",
   "name": "python3"
  },
  "language_info": {
   "codemirror_mode": {
    "name": "ipython",
    "version": 3
   },
   "file_extension": ".py",
   "mimetype": "text/x-python",
   "name": "python",
   "nbconvert_exporter": "python",
   "pygments_lexer": "ipython3",
   "version": "3.7.4"
  }
 },
 "nbformat": 4,
 "nbformat_minor": 4
}
