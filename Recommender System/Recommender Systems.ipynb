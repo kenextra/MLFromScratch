{
 "cells": [
  {
   "cell_type": "code",
   "execution_count": 1,
   "metadata": {},
   "outputs": [],
   "source": [
    "%load_ext autoreload\n",
    "%autoreload 2"
   ]
  },
  {
   "cell_type": "code",
   "execution_count": 2,
   "metadata": {},
   "outputs": [],
   "source": [
    "import numpy as np\n",
    "import matplotlib.pyplot as plt\n",
    "from scipy.io import loadmat"
   ]
  },
  {
   "cell_type": "markdown",
   "metadata": {},
   "source": [
    "# Loading movie ratings dataset"
   ]
  },
  {
   "cell_type": "code",
   "execution_count": 3,
   "metadata": {},
   "outputs": [
    {
     "name": "stdout",
     "output_type": "stream",
     "text": [
      "dict_keys(['__header__', '__version__', '__globals__', 'Y', 'R'])\n",
      "Y shape:  (1682, 943)\n",
      "R shape:  (1682, 943)\n"
     ]
    }
   ],
   "source": [
    "movie_dataset = loadmat('data/ex8_movies.mat')\n",
    "print(movie_dataset.keys())\n",
    "\n",
    "Y = movie_dataset['Y']\n",
    "R = movie_dataset['R']\n",
    "print('Y shape: ', Y.shape)\n",
    "print('R shape: ', R.shape)"
   ]
  },
  {
   "cell_type": "markdown",
   "metadata": {},
   "source": [
    "# Collaborative Filtering Cost Function"
   ]
  },
  {
   "cell_type": "code",
   "execution_count": 4,
   "metadata": {},
   "outputs": [
    {
     "data": {
      "text/plain": [
       "dict_keys(['__header__', '__version__', '__globals__', 'X', 'Theta', 'num_users', 'num_movies', 'num_features'])"
      ]
     },
     "execution_count": 4,
     "metadata": {},
     "output_type": "execute_result"
    }
   ],
   "source": [
    "params = loadmat('data/ex8_movieParams.mat')\n",
    "params.keys()"
   ]
  },
  {
   "cell_type": "code",
   "execution_count": 5,
   "metadata": {},
   "outputs": [
    {
     "name": "stdout",
     "output_type": "stream",
     "text": [
      "Number of users: [[943]]\n",
      "Number of movies: [[1682]]\n",
      "Number of features: [[10]]\n"
     ]
    }
   ],
   "source": [
    "X = params['X']\n",
    "Theta = params['Theta']\n",
    "num_users = params['num_users']\n",
    "num_movies = params['num_movies']\n",
    "num_features = params['num_features']\n",
    "print(f'Number of users: {num_users}')\n",
    "print(f'Number of movies: {num_movies}')\n",
    "print(f'Number of features: {num_features}')"
   ]
  },
  {
   "cell_type": "code",
   "execution_count": 6,
   "metadata": {},
   "outputs": [],
   "source": [
    "num_users = 4\n",
    "num_movies = 5\n",
    "num_features = 3"
   ]
  },
  {
   "cell_type": "code",
   "execution_count": 7,
   "metadata": {},
   "outputs": [],
   "source": [
    "X = X[0:num_movies, 0:num_features]\n",
    "Theta = Theta[0:num_users, 0:num_features]\n",
    "Y = Y[0:num_movies, 0:num_users]\n",
    "R = R[0:num_movies, 0:num_users]"
   ]
  },
  {
   "cell_type": "code",
   "execution_count": 10,
   "metadata": {},
   "outputs": [],
   "source": [
    "from utils import cofi_cost_function, cofi_gradient"
   ]
  },
  {
   "cell_type": "code",
   "execution_count": 11,
   "metadata": {},
   "outputs": [],
   "source": [
    "# Evaluate cost function\n",
    "Xs = np.reshape(X, (-1, 1), order='F')\n",
    "Thetas = np.reshape(Theta, (-1, 1), order='C')\n",
    "paras = np.vstack((Xs, Thetas))\n",
    "J = cofi_cost_function(paras, Y, R, num_users, num_movies, num_features, 0)"
   ]
  },
  {
   "cell_type": "code",
   "execution_count": 12,
   "metadata": {},
   "outputs": [
    {
     "data": {
      "text/plain": [
       "22.224603725685675"
      ]
     },
     "execution_count": 12,
     "metadata": {},
     "output_type": "execute_result"
    }
   ],
   "source": [
    "J"
   ]
  },
  {
   "cell_type": "code",
   "execution_count": 13,
   "metadata": {},
   "outputs": [],
   "source": [
    "J = cofi_cost_function(paras, Y, R, num_users, num_movies, num_features, 1.5)"
   ]
  },
  {
   "cell_type": "code",
   "execution_count": 14,
   "metadata": {},
   "outputs": [
    {
     "data": {
      "text/plain": [
       "31.34405624427422"
      ]
     },
     "execution_count": 14,
     "metadata": {},
     "output_type": "execute_result"
    }
   ],
   "source": [
    "J"
   ]
  },
  {
   "cell_type": "code",
   "execution_count": 15,
   "metadata": {},
   "outputs": [],
   "source": [
    "with open('data/movie_ids.txt') as f:\n",
    "    movies = f.read().strip()\n",
    "movie_list = movies.split('\\n')\n",
    "movie_dict = {}\n",
    "for movie in movie_list:\n",
    "    mov = movie.split()\n",
    "    idx = mov[0]\n",
    "    movi = \" \".join(mov[1:])\n",
    "    movie_dict[int(idx)-1] = movi"
   ]
  },
  {
   "cell_type": "code",
   "execution_count": 16,
   "metadata": {},
   "outputs": [
    {
     "data": {
      "text/plain": [
       "'Toy Story (1995)'"
      ]
     },
     "execution_count": 16,
     "metadata": {},
     "output_type": "execute_result"
    }
   ],
   "source": [
    "movie_dict[0]"
   ]
  },
  {
   "cell_type": "code",
   "execution_count": 17,
   "metadata": {},
   "outputs": [],
   "source": [
    "ratings = np.zeros((1682, 1))\n",
    "ratings[0] = 4\n",
    "ratings[97] = 2\n",
    "ratings[6] = 3\n",
    "ratings[11] = 5\n",
    "ratings[53] = 4\n",
    "ratings[63] = 5\n",
    "ratings[65] = 3\n",
    "ratings[68] = 5\n",
    "ratings[182] = 4\n",
    "ratings[225] = 5\n",
    "ratings[354] = 5"
   ]
  },
  {
   "cell_type": "code",
   "execution_count": 18,
   "metadata": {},
   "outputs": [
    {
     "name": "stdout",
     "output_type": "stream",
     "text": [
      "Rated [4.] for Toy Story (1995)\n",
      "Rated [3.] for Twelve Monkeys (1995)\n",
      "Rated [5.] for Usual Suspects, The (1995)\n",
      "Rated [4.] for Outbreak (1995)\n",
      "Rated [5.] for Shawshank Redemption, The (1994)\n",
      "Rated [3.] for While You Were Sleeping (1995)\n",
      "Rated [5.] for Forrest Gump (1994)\n",
      "Rated [2.] for Silence of the Lambs, The (1991)\n",
      "Rated [4.] for Alien (1979)\n",
      "Rated [5.] for Die Hard 2 (1990)\n",
      "Rated [5.] for Sphere (1998)\n"
     ]
    }
   ],
   "source": [
    "for i in range(0, len(ratings)):\n",
    "    if ratings[i] > 0:\n",
    "        print(f'Rated {ratings[i]} for {movie_dict[i]}')"
   ]
  },
  {
   "cell_type": "markdown",
   "metadata": {},
   "source": [
    "# Learning Movie Ratings"
   ]
  },
  {
   "cell_type": "code",
   "execution_count": 19,
   "metadata": {},
   "outputs": [
    {
     "name": "stdout",
     "output_type": "stream",
     "text": [
      "dict_keys(['__header__', '__version__', '__globals__', 'Y', 'R'])\n",
      "Y shape:  (1682, 943)\n",
      "R shape:  (1682, 943)\n"
     ]
    }
   ],
   "source": [
    "movie_dataset = loadmat('data/ex8_movies.mat')\n",
    "print(movie_dataset.keys())\n",
    "\n",
    "Y = movie_dataset['Y']\n",
    "R = movie_dataset['R']\n",
    "print('Y shape: ', Y.shape)\n",
    "print('R shape: ', R.shape)"
   ]
  },
  {
   "cell_type": "code",
   "execution_count": 20,
   "metadata": {},
   "outputs": [],
   "source": [
    "Y = np.hstack((ratings, Y))\n",
    "R = np.hstack((np.where(ratings != 0, 1, 0), R))"
   ]
  },
  {
   "cell_type": "code",
   "execution_count": 21,
   "metadata": {},
   "outputs": [],
   "source": [
    "from utils import normalize_ratings"
   ]
  },
  {
   "cell_type": "code",
   "execution_count": 22,
   "metadata": {},
   "outputs": [],
   "source": [
    "Ynorm, Ymean = normalize_ratings(Y, R)"
   ]
  },
  {
   "cell_type": "code",
   "execution_count": 23,
   "metadata": {},
   "outputs": [],
   "source": [
    "num_movies, num_users = Y.shape\n",
    "num_features = 10"
   ]
  },
  {
   "cell_type": "code",
   "execution_count": 24,
   "metadata": {},
   "outputs": [],
   "source": [
    "# Set Initial Parameters (Theta, X)\n",
    "X = np.random.randn(num_movies, num_features)\n",
    "Theta = np.random.randn(num_users, num_features)\n",
    "x = np.reshape(X, (-1, 1), order='F')\n",
    "theta = np.reshape(Theta, (-1, 1), order='F')\n",
    "initial_parameters = np.vstack((x, theta))"
   ]
  },
  {
   "cell_type": "code",
   "execution_count": 25,
   "metadata": {},
   "outputs": [
    {
     "data": {
      "text/plain": [
       "array([[ 1.40435258],\n",
       "       [-0.65484419],\n",
       "       [-1.1282191 ],\n",
       "       ...,\n",
       "       [-0.05789206],\n",
       "       [ 0.04829022],\n",
       "       [-0.07625768]])"
      ]
     },
     "execution_count": 25,
     "metadata": {},
     "output_type": "execute_result"
    }
   ],
   "source": [
    "initial_parameters[num_movies*num_features:]"
   ]
  },
  {
   "cell_type": "code",
   "execution_count": 28,
   "metadata": {},
   "outputs": [],
   "source": [
    "from utils import train"
   ]
  },
  {
   "cell_type": "code",
   "execution_count": 29,
   "metadata": {},
   "outputs": [],
   "source": [
    "lambd = 10\n",
    "options = {'maxiter': 1000, 'disp': False}"
   ]
  },
  {
   "cell_type": "code",
   "execution_count": 30,
   "metadata": {},
   "outputs": [],
   "source": [
    "theta = train(initial_parameters, Ynorm, R, num_users, num_movies, num_features, options, lambd)"
   ]
  },
  {
   "cell_type": "code",
   "execution_count": 31,
   "metadata": {},
   "outputs": [],
   "source": [
    "X = np.reshape(theta[0:num_movies*num_features], (num_movies, num_features), order='F')\n",
    "# theta = params[num_movies*num_features:, :]\n",
    "theta = theta[num_movies*num_features:]\n",
    "Theta = np.reshape(theta, (num_users, num_features))"
   ]
  },
  {
   "cell_type": "markdown",
   "metadata": {},
   "source": [
    "# Recommendations"
   ]
  },
  {
   "cell_type": "code",
   "execution_count": 32,
   "metadata": {},
   "outputs": [
    {
     "data": {
      "text/plain": [
       "(1682, 944)"
      ]
     },
     "execution_count": 32,
     "metadata": {},
     "output_type": "execute_result"
    }
   ],
   "source": [
    "p = X.dot(Theta.T)\n",
    "p.shape"
   ]
  },
  {
   "cell_type": "code",
   "execution_count": 33,
   "metadata": {},
   "outputs": [],
   "source": [
    "predictions = p[:, 1].reshape(-1, 1) + Ymean"
   ]
  },
  {
   "cell_type": "code",
   "execution_count": 34,
   "metadata": {},
   "outputs": [
    {
     "data": {
      "text/plain": [
       "(1682, 1)"
      ]
     },
     "execution_count": 34,
     "metadata": {},
     "output_type": "execute_result"
    }
   ],
   "source": [
    "predictions.shape"
   ]
  },
  {
   "cell_type": "code",
   "execution_count": 35,
   "metadata": {},
   "outputs": [],
   "source": [
    "p_sorted = np.sort(predictions, axis=0)\n",
    "r = p_sorted[::-1].flatten().tolist()\n",
    "p_idx = np.argsort(predictions, axis=0)\n",
    "idx = p_idx[::-1].flatten().tolist()"
   ]
  },
  {
   "cell_type": "code",
   "execution_count": 36,
   "metadata": {},
   "outputs": [
    {
     "name": "stdout",
     "output_type": "stream",
     "text": [
      "Prediction rating 10.6 for movie Bitter Sugar (Azucar Amargo) (1996)\n",
      "Prediction rating 9.9 for movie Golden Earrings (1947)\n",
      "Prediction rating 9.7 for movie I Don't Want to Talk About It (De eso no se habla) (1993)\n",
      "Prediction rating 9.6 for movie Letter From Death Row, A (1998)\n",
      "Prediction rating 9.3 for movie Visitors, The (Visiteurs, Les) (1993)\n",
      "Prediction rating 9.3 for movie Pharaoh's Army (1995)\n",
      "Prediction rating 9.2 for movie Substance of Fire, The (1996)\n",
      "Prediction rating 9.1 for movie Safe (1995)\n",
      "Prediction rating 9.0 for movie Fear, The (1995)\n",
      "Prediction rating 9.0 for movie Big One, The (1997)\n"
     ]
    }
   ],
   "source": [
    "for i in range(10):\n",
    "    j = idx[i]\n",
    "    print(f'Prediction rating {predictions[j][0]:.1f} for movie {movie_dict[j]}')"
   ]
  },
  {
   "cell_type": "code",
   "execution_count": 37,
   "metadata": {},
   "outputs": [
    {
     "name": "stdout",
     "output_type": "stream",
     "text": [
      "Rated [4.] for Toy Story (1995)\n",
      "Rated [3.] for Twelve Monkeys (1995)\n",
      "Rated [5.] for Usual Suspects, The (1995)\n",
      "Rated [4.] for Outbreak (1995)\n",
      "Rated [5.] for Shawshank Redemption, The (1994)\n",
      "Rated [3.] for While You Were Sleeping (1995)\n",
      "Rated [5.] for Forrest Gump (1994)\n",
      "Rated [2.] for Silence of the Lambs, The (1991)\n",
      "Rated [4.] for Alien (1979)\n",
      "Rated [5.] for Die Hard 2 (1990)\n",
      "Rated [5.] for Sphere (1998)\n"
     ]
    }
   ],
   "source": [
    "for i in range(0, len(ratings)):\n",
    "    if ratings[i] > 0:\n",
    "        print(f'Rated {ratings[i]} for {movie_dict[i]}')"
   ]
  },
  {
   "cell_type": "code",
   "execution_count": null,
   "metadata": {},
   "outputs": [],
   "source": []
  }
 ],
 "metadata": {
  "kernelspec": {
   "display_name": "Python 3",
   "language": "python",
   "name": "python3"
  },
  "language_info": {
   "codemirror_mode": {
    "name": "ipython",
    "version": 3
   },
   "file_extension": ".py",
   "mimetype": "text/x-python",
   "name": "python",
   "nbconvert_exporter": "python",
   "pygments_lexer": "ipython3",
   "version": "3.7.4"
  }
 },
 "nbformat": 4,
 "nbformat_minor": 4
}
