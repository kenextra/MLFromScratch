{
 "cells": [
  {
   "cell_type": "markdown",
   "metadata": {},
   "source": [
    "# Linear Regression From Scratch"
   ]
  },
  {
   "cell_type": "code",
   "execution_count": 1,
   "metadata": {},
   "outputs": [],
   "source": [
    "import numpy as np\n",
    "import pandas as pd\n",
    "import matplotlib.pyplot as plt\n",
    "from mpl_toolkits import mplot3d\n",
    "%matplotlib notebook"
   ]
  },
  {
   "cell_type": "code",
   "execution_count": 2,
   "metadata": {},
   "outputs": [],
   "source": [
    "def plot_data_2d(x, y):\n",
    "    # plt.figure()\n",
    "    plt.scatter(x, y.flatten(), marker='x', c='r', zorder=2)\n",
    "    plt.xlabel('Population of city in 10,000s')\n",
    "    plt.ylabel('Profit in $10,000s')\n",
    "    # plt.show()\n",
    "    \n",
    "    \n",
    "def plot_data_3d(X, Y, Z):\n",
    "    fig = plt.figure(figsize=(10,6))\n",
    "    ax = fig.add_subplot(111, projection=\"3d\")\n",
    "    ax.scatter3D(X, Y, Z, cmap='hsv')\n",
    "\n",
    "# Normalize features\n",
    "\n",
    "def feature_normalize(X):\n",
    "    mu = np.mean(X, axis=0)\n",
    "    sigma = np.std(X, axis=0)\n",
    "    X_norm = (X - mu) / sigma\n",
    "    return X_norm, mu, sigma\n",
    "\n",
    "# Compute cost\n",
    "def compute_cost(X, Y, theta):\n",
    "    m = len(Y)\n",
    "    error = np.dot(X, theta) - Y\n",
    "    const = 2 * m\n",
    "    J = (1 / const) * (np.dot(error.T, error))\n",
    "    return J\n",
    "\n",
    "# Gradient descent to update parameters\n",
    "def gradient_descent(X, Y, theta, alpha, num_iters, normalize=False):\n",
    "\n",
    "    m = len(Y)\n",
    "    J_history = np.zeros((num_iters, 1))\n",
    "    mu = 0\n",
    "    sigma = 1\n",
    "\n",
    "    if normalize:\n",
    "        X, mu, sigma = feature_normalize(X)\n",
    "\n",
    "    # add a column of ones to x\n",
    "    X = np.insert(X, 0, 1, axis=1)\n",
    "\n",
    "    for num in range(num_iters):\n",
    "        h = np.dot(X, theta)\n",
    "        error = h - Y\n",
    "        delta = np.dot(X.T, error) / m\n",
    "        theta = theta - alpha * delta\n",
    "\n",
    "        J_history[num] = compute_cost(X, Y, theta)\n",
    "        if num % 100 == 0:\n",
    "            print(\"Iteration \", num, \": cost \", J_history[num])\n",
    "\n",
    "    return theta, J_history, mu, sigma\n",
    "\n",
    "# Predict other data\n",
    "def predict(test, theta, mu, sigma):\n",
    "\n",
    "    # normalize test data\n",
    "    test = (test - mu) / sigma\n",
    "    # add a column of ones to x\n",
    "    test = np.insert(test, 0, 1, axis=1)\n",
    "\n",
    "    return np.dot(test, theta)\n",
    "\n",
    "def train(X, Y, theta, alpha, num_iters, normalize=False):\n",
    "    alpha = alpha\n",
    "    num_iters = num_iters\n",
    "\n",
    "    theta, J_history, mu, sigma = gradient_descent(\n",
    "        X, Y, theta, alpha, num_iters, normalize)\n",
    "\n",
    "    return theta, J_history, mu, sigma, normalize\n"
   ]
  },
  {
   "cell_type": "markdown",
   "metadata": {},
   "source": [
    "# Building Linear Regression Model for 2d Data"
   ]
  },
  {
   "cell_type": "markdown",
   "metadata": {},
   "source": [
    "The file ex1data1.txt contains the dataset for our linear regression problem.\n",
    "The first column is the population of a city and the second column is\n",
    "the profit of a food truck in that city. A negative value for profit indicates a\n",
    "loss."
   ]
  },
  {
   "cell_type": "code",
   "execution_count": 3,
   "metadata": {},
   "outputs": [],
   "source": [
    "file_path = 'data/ex1data1.txt'"
   ]
  },
  {
   "cell_type": "code",
   "execution_count": 4,
   "metadata": {},
   "outputs": [],
   "source": [
    "data = pd.read_csv(file_path, names=['Population', 'Profit'])"
   ]
  },
  {
   "cell_type": "code",
   "execution_count": 5,
   "metadata": {},
   "outputs": [
    {
     "data": {
      "text/html": [
       "<div>\n",
       "<style scoped>\n",
       "    .dataframe tbody tr th:only-of-type {\n",
       "        vertical-align: middle;\n",
       "    }\n",
       "\n",
       "    .dataframe tbody tr th {\n",
       "        vertical-align: top;\n",
       "    }\n",
       "\n",
       "    .dataframe thead th {\n",
       "        text-align: right;\n",
       "    }\n",
       "</style>\n",
       "<table border=\"1\" class=\"dataframe\">\n",
       "  <thead>\n",
       "    <tr style=\"text-align: right;\">\n",
       "      <th></th>\n",
       "      <th>Population</th>\n",
       "      <th>Profit</th>\n",
       "    </tr>\n",
       "  </thead>\n",
       "  <tbody>\n",
       "    <tr>\n",
       "      <th>0</th>\n",
       "      <td>6.1101</td>\n",
       "      <td>17.5920</td>\n",
       "    </tr>\n",
       "    <tr>\n",
       "      <th>1</th>\n",
       "      <td>5.5277</td>\n",
       "      <td>9.1302</td>\n",
       "    </tr>\n",
       "    <tr>\n",
       "      <th>2</th>\n",
       "      <td>8.5186</td>\n",
       "      <td>13.6620</td>\n",
       "    </tr>\n",
       "    <tr>\n",
       "      <th>3</th>\n",
       "      <td>7.0032</td>\n",
       "      <td>11.8540</td>\n",
       "    </tr>\n",
       "    <tr>\n",
       "      <th>4</th>\n",
       "      <td>5.8598</td>\n",
       "      <td>6.8233</td>\n",
       "    </tr>\n",
       "  </tbody>\n",
       "</table>\n",
       "</div>"
      ],
      "text/plain": [
       "   Population   Profit\n",
       "0      6.1101  17.5920\n",
       "1      5.5277   9.1302\n",
       "2      8.5186  13.6620\n",
       "3      7.0032  11.8540\n",
       "4      5.8598   6.8233"
      ]
     },
     "execution_count": 5,
     "metadata": {},
     "output_type": "execute_result"
    }
   ],
   "source": [
    "data.head()"
   ]
  },
  {
   "cell_type": "code",
   "execution_count": 6,
   "metadata": {},
   "outputs": [
    {
     "data": {
      "text/html": [
       "<div>\n",
       "<style scoped>\n",
       "    .dataframe tbody tr th:only-of-type {\n",
       "        vertical-align: middle;\n",
       "    }\n",
       "\n",
       "    .dataframe tbody tr th {\n",
       "        vertical-align: top;\n",
       "    }\n",
       "\n",
       "    .dataframe thead th {\n",
       "        text-align: right;\n",
       "    }\n",
       "</style>\n",
       "<table border=\"1\" class=\"dataframe\">\n",
       "  <thead>\n",
       "    <tr style=\"text-align: right;\">\n",
       "      <th></th>\n",
       "      <th>Population</th>\n",
       "      <th>Profit</th>\n",
       "    </tr>\n",
       "  </thead>\n",
       "  <tbody>\n",
       "    <tr>\n",
       "      <th>92</th>\n",
       "      <td>5.8707</td>\n",
       "      <td>7.20290</td>\n",
       "    </tr>\n",
       "    <tr>\n",
       "      <th>93</th>\n",
       "      <td>5.3054</td>\n",
       "      <td>1.98690</td>\n",
       "    </tr>\n",
       "    <tr>\n",
       "      <th>94</th>\n",
       "      <td>8.2934</td>\n",
       "      <td>0.14454</td>\n",
       "    </tr>\n",
       "    <tr>\n",
       "      <th>95</th>\n",
       "      <td>13.3940</td>\n",
       "      <td>9.05510</td>\n",
       "    </tr>\n",
       "    <tr>\n",
       "      <th>96</th>\n",
       "      <td>5.4369</td>\n",
       "      <td>0.61705</td>\n",
       "    </tr>\n",
       "  </tbody>\n",
       "</table>\n",
       "</div>"
      ],
      "text/plain": [
       "    Population   Profit\n",
       "92      5.8707  7.20290\n",
       "93      5.3054  1.98690\n",
       "94      8.2934  0.14454\n",
       "95     13.3940  9.05510\n",
       "96      5.4369  0.61705"
      ]
     },
     "execution_count": 6,
     "metadata": {},
     "output_type": "execute_result"
    }
   ],
   "source": [
    "data.tail()"
   ]
  },
  {
   "cell_type": "code",
   "execution_count": 7,
   "metadata": {},
   "outputs": [],
   "source": [
    "# Convert pandas dataframe to numpy array\n",
    "numpy_data = data.values # or np.array(data)\n",
    "n_row, n_col = numpy_data.shape\n",
    "\n",
    "X = numpy_data[:, 0:n_col - 1].reshape(n_row, n_col - 1)\n",
    "Y = numpy_data[:, n_col - 1].reshape(n_row, 1)\n",
    "\n",
    "m = len(X)"
   ]
  },
  {
   "cell_type": "code",
   "execution_count": 8,
   "metadata": {},
   "outputs": [
    {
     "name": "stdout",
     "output_type": "stream",
     "text": [
      "Size of Data is:  97\n",
      "Shape of Features:  (97, 1)\n",
      "Number of features:  1\n"
     ]
    }
   ],
   "source": [
    "print('Size of Data is: ', m)\n",
    "print('Shape of Features: ', X.shape)\n",
    "print('Number of features: ', X.shape[1])"
   ]
  },
  {
   "cell_type": "code",
   "execution_count": 9,
   "metadata": {},
   "outputs": [
    {
     "data": {
      "text/plain": [
       "Text(0.5, 1.0, 'Population vs Profit')"
      ]
     },
     "execution_count": 9,
     "metadata": {},
     "output_type": "execute_result"
    },
    {
     "data": {
      "image/png": "[encoded data removed]",
      "text/plain": [
       "<Figure size 720x432 with 1 Axes>"
      ]
     },
     "metadata": {
      "needs_background": "light"
     },
     "output_type": "display_data"
    }
   ],
   "source": [
    "fig = plt.figure(figsize=(10,6))\n",
    "plot_data_2d(X, Y)\n",
    "plt.title('Population vs Profit')"
   ]
  },
  {
   "cell_type": "code",
   "execution_count": 10,
   "metadata": {},
   "outputs": [],
   "source": [
    "initial_theta = np.zeros((X.shape[1] + 1, 1))\n",
    "alpha = 0.01\n",
    "num_iters = 1500"
   ]
  },
  {
   "cell_type": "code",
   "execution_count": 11,
   "metadata": {},
   "outputs": [
    {
     "name": "stdout",
     "output_type": "stream",
     "text": [
      "Iteration  0 : cost  [31.5235782]\n",
      "Iteration  100 : cost  [8.10066696]\n",
      "Iteration  200 : cost  [4.96247293]\n",
      "Iteration  300 : cost  [4.54201872]\n",
      "Iteration  400 : cost  [4.4856864]\n",
      "Iteration  500 : cost  [4.47813901]\n",
      "Iteration  600 : cost  [4.47712782]\n",
      "Iteration  700 : cost  [4.47699234]\n",
      "Iteration  800 : cost  [4.47697418]\n",
      "Iteration  900 : cost  [4.47697175]\n",
      "Iteration  1000 : cost  [4.47697143]\n",
      "Iteration  1100 : cost  [4.47697138]\n",
      "Iteration  1200 : cost  [4.47697138]\n",
      "Iteration  1300 : cost  [4.47697138]\n",
      "Iteration  1400 : cost  [4.47697138]\n",
      "theta:  [[5.8391334 ]\n",
      " [4.59303983]]\n"
     ]
    }
   ],
   "source": [
    "theta, J_history, mu, sigma, normalize = train(X, Y, initial_theta, alpha, num_iters, normalize=True)\n",
    "print('theta: ', theta)"
   ]
  },
  {
   "cell_type": "code",
   "execution_count": 12,
   "metadata": {},
   "outputs": [
    {
     "name": "stdout",
     "output_type": "stream",
     "text": [
      "For population = 30000, we predict a profit of $2798.37\n"
     ]
    }
   ],
   "source": [
    "test = np.array([[3.5]])\n",
    "# result = predict(test, theta, mu, sigma) * 10000\n",
    "result = predict(test, theta, mu, sigma) * 10000\n",
    "print(f'For population = {int(test[0][0]) * 10000}, we predict a profit of ${result[0][0]:.2f}')"
   ]
  },
  {
   "cell_type": "code",
   "execution_count": 13,
   "metadata": {},
   "outputs": [
    {
     "data": {
      "image/png": "[encoded data removed]",
      "text/plain": [
       "<Figure size 720x432 with 1 Axes>"
      ]
     },
     "metadata": {
      "needs_background": "light"
     },
     "output_type": "display_data"
    }
   ],
   "source": [
    "plt.figure(figsize=(10,6))\n",
    "if normalize:\n",
    "    X, _, _ = feature_normalize(X)\n",
    "    plt.title('Population is normalized')\n",
    "else:\n",
    "    plt.title('Population is not normalized')\n",
    "plt.plot(X, np.dot(np.insert(X, 0, 1, axis=1), theta), zorder=1)\n",
    "plot_data_2d(X, Y)"
   ]
  },
  {
   "cell_type": "markdown",
   "metadata": {},
   "source": [
    "# Multivariate Linear Regression Model for 3d Data"
   ]
  },
  {
   "cell_type": "markdown",
   "metadata": {},
   "source": [
    "The file ex1data2.txt contains a training set of housing prices in Port-\n",
    "land, Oregon. The first column is the size of the house (in square feet), the\n",
    "second column is the number of bedrooms, and the third column is the price\n",
    "of the house."
   ]
  },
  {
   "cell_type": "code",
   "execution_count": 14,
   "metadata": {},
   "outputs": [],
   "source": [
    "data2 = pd.read_csv('data/ex1data2.txt', names=['Size', 'No of Bedrooms', 'Price'])"
   ]
  },
  {
   "cell_type": "code",
   "execution_count": 15,
   "metadata": {},
   "outputs": [
    {
     "data": {
      "text/html": [
       "<div>\n",
       "<style scoped>\n",
       "    .dataframe tbody tr th:only-of-type {\n",
       "        vertical-align: middle;\n",
       "    }\n",
       "\n",
       "    .dataframe tbody tr th {\n",
       "        vertical-align: top;\n",
       "    }\n",
       "\n",
       "    .dataframe thead th {\n",
       "        text-align: right;\n",
       "    }\n",
       "</style>\n",
       "<table border=\"1\" class=\"dataframe\">\n",
       "  <thead>\n",
       "    <tr style=\"text-align: right;\">\n",
       "      <th></th>\n",
       "      <th>Size</th>\n",
       "      <th>No of Bedrooms</th>\n",
       "      <th>Price</th>\n",
       "    </tr>\n",
       "  </thead>\n",
       "  <tbody>\n",
       "    <tr>\n",
       "      <th>0</th>\n",
       "      <td>2104</td>\n",
       "      <td>3</td>\n",
       "      <td>399900</td>\n",
       "    </tr>\n",
       "    <tr>\n",
       "      <th>1</th>\n",
       "      <td>1600</td>\n",
       "      <td>3</td>\n",
       "      <td>329900</td>\n",
       "    </tr>\n",
       "    <tr>\n",
       "      <th>2</th>\n",
       "      <td>2400</td>\n",
       "      <td>3</td>\n",
       "      <td>369000</td>\n",
       "    </tr>\n",
       "    <tr>\n",
       "      <th>3</th>\n",
       "      <td>1416</td>\n",
       "      <td>2</td>\n",
       "      <td>232000</td>\n",
       "    </tr>\n",
       "    <tr>\n",
       "      <th>4</th>\n",
       "      <td>3000</td>\n",
       "      <td>4</td>\n",
       "      <td>539900</td>\n",
       "    </tr>\n",
       "  </tbody>\n",
       "</table>\n",
       "</div>"
      ],
      "text/plain": [
       "   Size  No of Bedrooms   Price\n",
       "0  2104               3  399900\n",
       "1  1600               3  329900\n",
       "2  2400               3  369000\n",
       "3  1416               2  232000\n",
       "4  3000               4  539900"
      ]
     },
     "execution_count": 15,
     "metadata": {},
     "output_type": "execute_result"
    }
   ],
   "source": [
    "data2.head()"
   ]
  },
  {
   "cell_type": "code",
   "execution_count": 16,
   "metadata": {},
   "outputs": [
    {
     "data": {
      "text/html": [
       "<div>\n",
       "<style scoped>\n",
       "    .dataframe tbody tr th:only-of-type {\n",
       "        vertical-align: middle;\n",
       "    }\n",
       "\n",
       "    .dataframe tbody tr th {\n",
       "        vertical-align: top;\n",
       "    }\n",
       "\n",
       "    .dataframe thead th {\n",
       "        text-align: right;\n",
       "    }\n",
       "</style>\n",
       "<table border=\"1\" class=\"dataframe\">\n",
       "  <thead>\n",
       "    <tr style=\"text-align: right;\">\n",
       "      <th></th>\n",
       "      <th>Size</th>\n",
       "      <th>No of Bedrooms</th>\n",
       "      <th>Price</th>\n",
       "    </tr>\n",
       "  </thead>\n",
       "  <tbody>\n",
       "    <tr>\n",
       "      <th>42</th>\n",
       "      <td>2567</td>\n",
       "      <td>4</td>\n",
       "      <td>314000</td>\n",
       "    </tr>\n",
       "    <tr>\n",
       "      <th>43</th>\n",
       "      <td>1200</td>\n",
       "      <td>3</td>\n",
       "      <td>299000</td>\n",
       "    </tr>\n",
       "    <tr>\n",
       "      <th>44</th>\n",
       "      <td>852</td>\n",
       "      <td>2</td>\n",
       "      <td>179900</td>\n",
       "    </tr>\n",
       "    <tr>\n",
       "      <th>45</th>\n",
       "      <td>1852</td>\n",
       "      <td>4</td>\n",
       "      <td>299900</td>\n",
       "    </tr>\n",
       "    <tr>\n",
       "      <th>46</th>\n",
       "      <td>1203</td>\n",
       "      <td>3</td>\n",
       "      <td>239500</td>\n",
       "    </tr>\n",
       "  </tbody>\n",
       "</table>\n",
       "</div>"
      ],
      "text/plain": [
       "    Size  No of Bedrooms   Price\n",
       "42  2567               4  314000\n",
       "43  1200               3  299000\n",
       "44   852               2  179900\n",
       "45  1852               4  299900\n",
       "46  1203               3  239500"
      ]
     },
     "execution_count": 16,
     "metadata": {},
     "output_type": "execute_result"
    }
   ],
   "source": [
    "data2.tail()"
   ]
  },
  {
   "cell_type": "code",
   "execution_count": 17,
   "metadata": {},
   "outputs": [],
   "source": [
    "# Convert pandas dataframe to numpy array\n",
    "numpy_data = data2.values\n",
    "n_row, n_col = numpy_data.shape\n",
    "\n",
    "X = numpy_data[:, 0:n_col - 1].reshape(n_row, n_col - 1)\n",
    "Y = numpy_data[:, n_col - 1].reshape(n_row, 1)\n",
    "\n",
    "m = len(X)"
   ]
  },
  {
   "cell_type": "code",
   "execution_count": 18,
   "metadata": {},
   "outputs": [
    {
     "name": "stdout",
     "output_type": "stream",
     "text": [
      "Size of Data is:  47\n",
      "Shape of Features:  (47, 2)\n",
      "Number of features:  2\n"
     ]
    }
   ],
   "source": [
    "print('Size of Data is: ', m)\n",
    "print('Shape of Features: ', X.shape)\n",
    "print('Number of features: ', X.shape[1])"
   ]
  },
  {
   "cell_type": "code",
   "execution_count": 19,
   "metadata": {},
   "outputs": [
    {
     "data": {
      "image/png": "[encoded data removed]",
      "text/plain": [
       "<Figure size 720x432 with 1 Axes>"
      ]
     },
     "metadata": {
      "needs_background": "light"
     },
     "output_type": "display_data"
    }
   ],
   "source": [
    "plot_data_3d(X[:,0], X[:,1], Y)"
   ]
  },
  {
   "cell_type": "code",
   "execution_count": 20,
   "metadata": {},
   "outputs": [],
   "source": [
    "initial_theta = np.zeros((X.shape[1] + 1, 1))\n",
    "alpha = 0.01\n",
    "num_iters = 1500"
   ]
  },
  {
   "cell_type": "code",
   "execution_count": 21,
   "metadata": {},
   "outputs": [
    {
     "name": "stdout",
     "output_type": "stream",
     "text": [
      "Iteration  0 : cost  [6.42977763e+10]\n",
      "Iteration  100 : cost  [1.04316011e+10]\n",
      "Iteration  200 : cost  [3.32160782e+09]\n",
      "Iteration  300 : cost  [2.2842987e+09]\n",
      "Iteration  400 : cost  [2.10469447e+09]\n",
      "Iteration  500 : cost  [2.06357454e+09]\n",
      "Iteration  600 : cost  [2.05099438e+09]\n",
      "Iteration  700 : cost  [2.04638144e+09]\n",
      "Iteration  800 : cost  [2.04455155e+09]\n",
      "Iteration  900 : cost  [2.04380474e+09]\n",
      "Iteration  1000 : cost  [2.04349702e+09]\n",
      "Iteration  1100 : cost  [2.04336984e+09]\n",
      "Iteration  1200 : cost  [2.04331721e+09]\n",
      "Iteration  1300 : cost  [2.04329543e+09]\n",
      "Iteration  1400 : cost  [2.04328642e+09]\n",
      "theta:  [[340412.56301439]\n",
      " [109370.05670466]\n",
      " [ -6500.61509507]]\n"
     ]
    }
   ],
   "source": [
    "theta, J_history, mu, sigma, normalize = train(X, Y, initial_theta, alpha, num_iters, normalize=True)\n",
    "print('theta: ', theta)"
   ]
  },
  {
   "cell_type": "code",
   "execution_count": 22,
   "metadata": {},
   "outputs": [
    {
     "name": "stdout",
     "output_type": "stream",
     "text": [
      "Predicted price of a 1650 sq-ft, 3 br house (using gradient descent) $293098.47\n"
     ]
    }
   ],
   "source": [
    "# Predicted price of a 1650 sq-ft, 3 br house (using gradient descent)\n",
    "test = np.array([[1650, 3]], dtype='int')\n",
    "result = predict(test, theta, mu, sigma)\n",
    "print(f'Predicted price of a {test[0][0]} sq-ft, {test[0][1]} br house (using gradient descent) ${result[0][0]:.2f}')"
   ]
  },
  {
   "cell_type": "code",
   "execution_count": null,
   "metadata": {},
   "outputs": [],
   "source": []
  }
 ],
 "metadata": {
  "kernelspec": {
   "display_name": "Python 3",
   "language": "python",
   "name": "python3"
  },
  "language_info": {
   "codemirror_mode": {
    "name": "ipython",
    "version": 3
   },
   "file_extension": ".py",
   "mimetype": "text/x-python",
   "name": "python",
   "nbconvert_exporter": "python",
   "pygments_lexer": "ipython3",
   "version": "3.7.4"
  }
 },
 "nbformat": 4,
 "nbformat_minor": 4
}
